{
 "cells": [
  {
   "cell_type": "markdown",
   "metadata": {},
   "source": [
    "# BentoML Example: Sentiment Analysis with Scikit-learn\n",
    "\n",
    "\n",
    "[BentoML](http://bentoml.ai) is an open source framework for building, shipping and running machine learning services. It provides high-level APIs for defining an ML service and packaging its artifacts, source code, dependencies, and configurations into a production-system-friendly format that is ready for deployment.\n",
    "\n",
    "This notebook demonstrates how to use BentoML to turn a scikit-learn model into a docker image containing a REST API server serving this model, how to use your ML service built with BentoML as a CLI tool, and how to distribute it a pypi package.\n",
    "\n",
    "\n",
    "*The example is based on [this notebook](https://github.com/crawles/sentiment_analysis_twitter_model/blob/master/build-sentiment-classifier.ipynb), using dataset from [Sentiment140](http://help.sentiment140.com/for-students/)*\n",
    "\n",
    "![Impression](https://www.google-analytics.com/collect?v=1&tid=UA-112879361-3&cid=555&t=event&ec=scikit-learn&ea=sklearn-sentiment-analysis&dt=sklearn-sentiment-analysis)"
   ]
  },
  {
   "cell_type": "code",
   "execution_count": 1,
   "metadata": {},
   "outputs": [],
   "source": [
    "%reload_ext autoreload\n",
    "%autoreload 2\n",
    "%matplotlib inline "
   ]
  },
  {
   "cell_type": "code",
   "execution_count": null,
   "metadata": {},
   "outputs": [],
   "source": [
    "!pip install bentoml\n",
    "!pip install sklearn pandas numpy"
   ]
  },
  {
   "cell_type": "code",
   "execution_count": 3,
   "metadata": {},
   "outputs": [],
   "source": [
    "import numpy as np\n",
    "import pandas as pd\n",
    "from sklearn.feature_extraction.text import CountVectorizer\n",
    "from sklearn.linear_model import LogisticRegression\n",
    "from sklearn.metrics import classification_report, roc_auc_score, roc_curve\n",
    "from sklearn.pipeline import Pipeline\n",
    "\n",
    "import bentoml"
   ]
  },
  {
   "cell_type": "markdown",
   "metadata": {},
   "source": [
    "## Prepare Dataset"
   ]
  },
  {
   "cell_type": "code",
   "execution_count": 4,
   "metadata": {},
   "outputs": [],
   "source": [
    "%%bash\n",
    "\n",
    "if [ ! -f ./trainingandtestdata.zip ]; then\n",
    "    wget -q http://cs.stanford.edu/people/alecmgo/trainingandtestdata.zip\n",
    "    unzip -n trainingandtestdata.zip\n",
    "fi"
   ]
  },
  {
   "cell_type": "code",
   "execution_count": 5,
   "metadata": {},
   "outputs": [],
   "source": [
    "columns = ['polarity', 'tweetid', 'date', 'query_name', 'user', 'text']\n",
    "dftrain = pd.read_csv('training.1600000.processed.noemoticon.csv',\n",
    "                      header = None,\n",
    "                      encoding ='ISO-8859-1')\n",
    "dftest = pd.read_csv('testdata.manual.2009.06.14.csv',\n",
    "                     header = None,\n",
    "                     encoding ='ISO-8859-1')\n",
    "dftrain.columns = columns\n",
    "dftest.columns = columns"
   ]
  },
  {
   "cell_type": "markdown",
   "metadata": {},
   "source": [
    "## Model Training"
   ]
  },
  {
   "cell_type": "code",
   "execution_count": 6,
   "metadata": {
    "scrolled": true
   },
   "outputs": [
    {
     "name": "stderr",
     "output_type": "stream",
     "text": [
      "/Users/chaoyuyang/anaconda3/envs/bentoml-dev/lib/python3.7/site-packages/sklearn/linear_model/logistic.py:432: FutureWarning: Default solver will be changed to 'lbfgs' in 0.22. Specify a solver to silence this warning.\n",
      "  FutureWarning)\n"
     ]
    },
    {
     "data": {
      "text/plain": [
       "Pipeline(memory=None,\n",
       "         steps=[('count_vect',\n",
       "                 CountVectorizer(analyzer='word', binary=False,\n",
       "                                 decode_error='strict',\n",
       "                                 dtype=<class 'numpy.int64'>, encoding='utf-8',\n",
       "                                 input='content', lowercase=True, max_df=1.0,\n",
       "                                 max_features=None, min_df=100,\n",
       "                                 ngram_range=(1, 1), preprocessor=None,\n",
       "                                 stop_words='english', strip_accents=None,\n",
       "                                 token_pattern='(?u)\\\\b\\\\w\\\\w+\\\\b',\n",
       "                                 tokenizer=None, vocabulary=None)),\n",
       "                ('lr',\n",
       "                 LogisticRegression(C=1.0, class_weight=None, dual=False,\n",
       "                                    fit_intercept=True, intercept_scaling=1,\n",
       "                                    l1_ratio=None, max_iter=100,\n",
       "                                    multi_class='warn', n_jobs=None,\n",
       "                                    penalty='l2', random_state=None,\n",
       "                                    solver='warn', tol=0.0001, verbose=0,\n",
       "                                    warm_start=False))],\n",
       "         verbose=False)"
      ]
     },
     "execution_count": 6,
     "metadata": {},
     "output_type": "execute_result"
    }
   ],
   "source": [
    "sentiment_lr = Pipeline([\n",
    "                         ('count_vect', CountVectorizer(min_df = 100,\n",
    "                                                        ngram_range = (1,1),\n",
    "                                                        stop_words = 'english')), \n",
    "                         ('lr', LogisticRegression())])\n",
    "sentiment_lr.fit(dftrain.text, dftrain.polarity)"
   ]
  },
  {
   "cell_type": "code",
   "execution_count": 7,
   "metadata": {
    "scrolled": true
   },
   "outputs": [
    {
     "name": "stdout",
     "output_type": "stream",
     "text": [
      "              precision    recall  f1-score   support\n",
      "\n",
      "           0       0.85      0.80      0.83       177\n",
      "           4       0.82      0.86      0.84       182\n",
      "\n",
      "    accuracy                           0.83       359\n",
      "   macro avg       0.83      0.83      0.83       359\n",
      "weighted avg       0.83      0.83      0.83       359\n",
      "\n"
     ]
    }
   ],
   "source": [
    "Xtest, ytest = dftest.text[dftest.polarity!=2], dftest.polarity[dftest.polarity!=2]\n",
    "print(classification_report(ytest,sentiment_lr.predict(Xtest)))"
   ]
  },
  {
   "cell_type": "code",
   "execution_count": 8,
   "metadata": {},
   "outputs": [
    {
     "data": {
      "text/plain": [
       "array([4])"
      ]
     },
     "execution_count": 8,
     "metadata": {},
     "output_type": "execute_result"
    }
   ],
   "source": [
    "sentiment_lr.predict([Xtest[0]])"
   ]
  },
  {
   "cell_type": "markdown",
   "metadata": {},
   "source": [
    "## Create BentoService for model serving"
   ]
  },
  {
   "cell_type": "code",
   "execution_count": 9,
   "metadata": {
    "scrolled": true
   },
   "outputs": [
    {
     "name": "stdout",
     "output_type": "stream",
     "text": [
      "Overwriting sentiment_analysis_service.py\n"
     ]
    }
   ],
   "source": [
    "%%writefile sentiment_analysis_service.py\n",
    "import pandas as pd\n",
    "import bentoml\n",
    "from bentoml.artifact import SklearnModelArtifact\n",
    "from bentoml.handlers import DataframeHandler\n",
    "\n",
    "@bentoml.artifacts([SklearnModelArtifact('model')])\n",
    "@bentoml.env(pip_dependencies=[\"scikit-learn\", \"pandas\"])\n",
    "class SentimentAnalysisService(bentoml.BentoService):\n",
    "\n",
    "    @bentoml.api(DataframeHandler, typ='series')\n",
    "    def predict(self, series):\n",
    "        \"\"\"\n",
    "        predict expects pandas.Series as input\n",
    "        \"\"\"        \n",
    "        return self.artifacts.model.predict(series)"
   ]
  },
  {
   "cell_type": "markdown",
   "metadata": {},
   "source": [
    "## Save BentoService to file archive"
   ]
  },
  {
   "cell_type": "code",
   "execution_count": 10,
   "metadata": {},
   "outputs": [
    {
     "name": "stdout",
     "output_type": "stream",
     "text": [
      "[2019-09-25 15:24:33,149] INFO - Successfully saved Bento 'SentimentAnalysisService:2019_09_25_41a744f8' to path: /Users/chaoyuyang/bentoml/repository/SentimentAnalysisService/2019_09_25_41a744f8\n"
     ]
    }
   ],
   "source": [
    "# 1) import the custom BentoService defined above\n",
    "from sentiment_analysis_service import SentimentAnalysisService\n",
    "\n",
    "# 2) `pack` it with required artifacts\n",
    "bento_service = SentimentAnalysisService.pack(\n",
    "    model=sentiment_lr\n",
    ")\n",
    "\n",
    "# 3) save your BentoSerivce to file archive\n",
    "saved_path = bento_service.save()"
   ]
  },
  {
   "cell_type": "markdown",
   "metadata": {},
   "source": [
    "## Load BentoService archive from saved path"
   ]
  },
  {
   "cell_type": "code",
   "execution_count": 15,
   "metadata": {
    "scrolled": false
   },
   "outputs": [
    {
     "name": "stdout",
     "output_type": "stream",
     "text": [
      "[2019-09-25 15:24:59,700] WARNING - Module `sentiment_analysis_service` already loaded, using existing imported module.\n"
     ]
    },
    {
     "data": {
      "text/plain": [
       "array([4, 4])"
      ]
     },
     "execution_count": 15,
     "metadata": {},
     "output_type": "execute_result"
    }
   ],
   "source": [
    "import bentoml\n",
    "\n",
    "# Load exported bentoML model archive from path\n",
    "loaded_bento_service = bentoml.load(saved_path)\n",
    "\n",
    "# Call predict on the restored sklearn model\n",
    "loaded_bento_service.predict(pd.Series([\"good\", \"great\"]))"
   ]
  },
  {
   "cell_type": "markdown",
   "metadata": {},
   "source": [
    "# \"pip install\" a saved BentoService archive\n",
    "\n",
    "BentoML user can directly pip install saved BentoML archive with `pip install {saved_path}`,  and use it as a regular python package."
   ]
  },
  {
   "cell_type": "code",
   "execution_count": 16,
   "metadata": {},
   "outputs": [
    {
     "name": "stdout",
     "output_type": "stream",
     "text": [
      "Processing /Users/chaoyuyang/bentoml/repository/SentimentAnalysisService/2019_09_25_41a744f8\n",
      "Building wheels for collected packages: SentimentAnalysisService\n",
      "  Building wheel for SentimentAnalysisService (setup.py) ... \u001b[?25ldone\n",
      "\u001b[?25h  Stored in directory: /private/var/folders/ns/vc9qhmqx5dx_9fws7d869lqh0000gn/T/pip-ephem-wheel-cache-kqkhmej6/wheels/c6/c7/8a/7c77a55c0110a15d7bc547700159838f3350d500e463b16dee\n",
      "Successfully built SentimentAnalysisService\n",
      "Installing collected packages: SentimentAnalysisService\n",
      "  Found existing installation: SentimentAnalysisService 2019-09-25-41a744f8\n",
      "    Uninstalling SentimentAnalysisService-2019-09-25-41a744f8:\n",
      "      Successfully uninstalled SentimentAnalysisService-2019-09-25-41a744f8\n",
      "Successfully installed SentimentAnalysisService-2019-09-25-41a744f8\n"
     ]
    }
   ],
   "source": [
    "!pip install {saved_path}"
   ]
  },
  {
   "cell_type": "code",
   "execution_count": 17,
   "metadata": {
    "scrolled": true
   },
   "outputs": [
    {
     "name": "stdout",
     "output_type": "stream",
     "text": [
      "[2019-09-25 15:25:06,070] WARNING - Module `sentiment_analysis_service` already loaded, using existing imported module.\n",
      "[2019-09-25 15:25:06,083] WARNING - Module `sentiment_analysis_service` already loaded, using existing imported module.\n"
     ]
    },
    {
     "data": {
      "text/plain": [
       "array([0, 4])"
      ]
     },
     "execution_count": 17,
     "metadata": {},
     "output_type": "execute_result"
    }
   ],
   "source": [
    "# Your bentoML model class name will become packaged name\n",
    "import SentimentAnalysisService\n",
    "\n",
    "svc = SentimentAnalysisService.load() # call load to ensure all artifacts are loaded\n",
    "svc.predict(pd.Series([\"bad\", \"awesome\"]))"
   ]
  },
  {
   "cell_type": "markdown",
   "metadata": {},
   "source": [
    "## BentoService Command Line Access\n",
    "\n",
    "`pip install saved_path` also installs a CLI tool for accessing the BentoML service"
   ]
  },
  {
   "cell_type": "code",
   "execution_count": 18,
   "metadata": {},
   "outputs": [
    {
     "name": "stdout",
     "output_type": "stream",
     "text": [
      "\u001b[39m{\r\n",
      "  \"name\": \"SentimentAnalysisService\",\r\n",
      "  \"version\": \"2019_09_25_41a744f8\",\r\n",
      "  \"created_at\": \"2019-09-25T22:24:33.138534Z\",\r\n",
      "  \"env\": {\r\n",
      "    \"conda_env\": \"name: bentoml-custom-conda-env\\nchannels:\\n- defaults\\ndependencies:\\n- python=3.7.3\\n- pip\\n- pip:\\n  - bentoml[api_server]==0.4.2\\n\",\r\n",
      "    \"pip_dependencies\": \"bentoml==0.4.2\\nscikit-learn\\npandas\"\r\n",
      "  },\r\n",
      "  \"artifacts\": [\r\n",
      "    {\r\n",
      "      \"name\": \"model\",\r\n",
      "      \"artifact_type\": \"SklearnModelArtifact\"\r\n",
      "    }\r\n",
      "  ],\r\n",
      "  \"apis\": [\r\n",
      "    {\r\n",
      "      \"name\": \"predict\",\r\n",
      "      \"handler_type\": \"DataframeHandler\",\r\n",
      "      \"docs\": \"predict expects pandas.Series as input\"\r\n",
      "    }\r\n",
      "  ]\r\n",
      "}\u001b[0m\r\n"
     ]
    }
   ],
   "source": [
    "!SentimentAnalysisService info"
   ]
  },
  {
   "cell_type": "code",
   "execution_count": null,
   "metadata": {},
   "outputs": [],
   "source": [
    "!SentimentAnalysisService --help"
   ]
  },
  {
   "cell_type": "code",
   "execution_count": null,
   "metadata": {
    "scrolled": true
   },
   "outputs": [],
   "source": [
    "!SentimentAnalysisService predict --help"
   ]
  },
  {
   "cell_type": "code",
   "execution_count": 19,
   "metadata": {},
   "outputs": [
    {
     "name": "stdout",
     "output_type": "stream",
     "text": [
      "[4 4 0]\r\n"
     ]
    }
   ],
   "source": [
    "# Run prediction with sample input\n",
    "!SentimentAnalysisService predict --input='[\"some new text, sweet noodles\", \"happy time\", \"sad day\"]'"
   ]
  },
  {
   "cell_type": "code",
   "execution_count": null,
   "metadata": {},
   "outputs": [],
   "source": [
    "# OpenAPI docs for generating API Client\n",
    "!SentimentAnalysisService open-api-spec"
   ]
  },
  {
   "cell_type": "markdown",
   "metadata": {},
   "source": [
    "# Model Serving via REST API\n",
    "\n",
    "#### Run REST API server locally"
   ]
  },
  {
   "cell_type": "code",
   "execution_count": 21,
   "metadata": {
    "scrolled": true
   },
   "outputs": [
    {
     "name": "stdout",
     "output_type": "stream",
     "text": [
      " * Serving Flask app \"SentimentAnalysisService\" (lazy loading)\n",
      " * Environment: production\n",
      "\u001b[31m   WARNING: This is a development server. Do not use it in a production deployment.\u001b[0m\n",
      "\u001b[2m   Use a production WSGI server instead.\u001b[0m\n",
      " * Debug mode: off\n",
      " * Running on http://127.0.0.1:5000/ (Press CTRL+C to quit)\n",
      "127.0.0.1 - - [25/Sep/2019 15:25:31] \"\u001b[37mGET / HTTP/1.1\u001b[0m\" 200 -\n",
      "127.0.0.1 - - [25/Sep/2019 15:25:31] \"\u001b[37mGET /docs.json HTTP/1.1\u001b[0m\" 200 -\n",
      "127.0.0.1 - - [25/Sep/2019 15:25:42] \"\u001b[37mPOST /predict HTTP/1.1\u001b[0m\" 200 -\n",
      "127.0.0.1 - - [25/Sep/2019 15:25:44] \"\u001b[37mPOST /predict HTTP/1.1\u001b[0m\" 200 -\n",
      "127.0.0.1 - - [25/Sep/2019 15:25:44] \"\u001b[37mPOST /predict HTTP/1.1\u001b[0m\" 200 -\n",
      "^C\n"
     ]
    }
   ],
   "source": [
    "!bentoml serve {saved_path}"
   ]
  },
  {
   "cell_type": "markdown",
   "metadata": {},
   "source": [
    "#### Send prediction request to REST API server\n",
    "\n",
    "Run the following command in terminal to make a HTTP request to the API server:\n",
    "```bash\n",
    "curl -i \\\n",
    "--header \"Content-Type: application/json\" \\\n",
    "--request POST \\\n",
    "--data '[\"some new text, sweet noodles\", \"happy time\", \"sad day\"]' \\\n",
    "localhost:5000/predict\n",
    "```\n",
    "\n",
    "You can also view all availabl API endpoints at [localhost:5000](localhost:5000), or look at prometheus metrics at [localhost:5000/metrics](localhost:5000/metrics) in browser."
   ]
  },
  {
   "cell_type": "markdown",
   "metadata": {},
   "source": [
    "## Run REST API server with Docker\n",
    "\n",
    "** _Note: `docker` is not available when running in Google Colaboratory_\n",
    "\n",
    "### 1) build docker image with saved Bento and tag it (e.g. sentiment-analysis-servicel)"
   ]
  },
  {
   "cell_type": "code",
   "execution_count": 22,
   "metadata": {},
   "outputs": [
    {
     "name": "stdout",
     "output_type": "stream",
     "text": [
      "Sending build context to Docker daemon  13.19MB\n",
      "Step 1/11 : FROM continuumio/miniconda3\n",
      " ---> ae46c364060f\n",
      "Step 2/11 : ENTRYPOINT [ \"/bin/bash\", \"-c\" ]\n",
      " ---> Using cache\n",
      " ---> 2f135ada8e2d\n",
      "Step 3/11 : EXPOSE 5000\n",
      " ---> Using cache\n",
      " ---> 738f652d09ae\n",
      "Step 4/11 : RUN set -x      && apt-get update      && apt-get install --no-install-recommends --no-install-suggests -y libpq-dev build-essential      && rm -rf /var/lib/apt/lists/*\n",
      " ---> Using cache\n",
      " ---> 70c62a45013a\n",
      "Step 5/11 : RUN conda update conda -y       && conda install pip numpy scipy       && pip install gunicorn six\n",
      " ---> Using cache\n",
      " ---> fe5d966ecc35\n",
      "Step 6/11 : COPY . /bento\n",
      " ---> 73f29983b1e5\n",
      "Step 7/11 : WORKDIR /bento\n",
      " ---> Running in c733e2b363cf\n",
      "Removing intermediate container c733e2b363cf\n",
      " ---> 8ab3c0658d40\n",
      "Step 8/11 : RUN conda env update -n base -f /bento/environment.yml\n",
      " ---> Running in 46ad4dcabd79\n",
      "Collecting package metadata: ...working... done\n",
      "Solving environment: ...working... \n",
      "The environment is inconsistent, please check the package plan carefully\n",
      "The following packages are causing the inconsistency:\n",
      "\n",
      "  - defaults/linux-64::pyopenssl==18.0.0=py37_0\n",
      "  - defaults/linux-64::idna==2.8=py37_0\n",
      "  - defaults/linux-64::six==1.12.0=py37_0\n",
      "  - defaults/linux-64::cryptography==2.4.2=py37h1ba5d50_0\n",
      "  - defaults/linux-64::ruamel_yaml==0.15.46=py37h14c3975_0\n",
      "  - defaults/linux-64::pycparser==2.19=py37_0\n",
      "  - defaults/linux-64::libedit==3.1.20170329=h6b74fdf_2\n",
      "  - defaults/linux-64::zlib==1.2.11=h7b6447c_3\n",
      "  - defaults/linux-64::readline==7.0=h7b6447c_5\n",
      "  - defaults/linux-64::tk==8.6.8=hbc83047_0\n",
      "  - defaults/linux-64::urllib3==1.24.1=py37_0\n",
      "  - defaults/linux-64::pycosat==0.6.3=py37h14c3975_0\n",
      "  - defaults/linux-64::ncurses==6.1=he6710b0_1\n",
      "  - defaults/linux-64::requests==2.21.0=py37_0\n",
      "  - defaults/linux-64::wheel==0.32.3=py37_0\n",
      "  - defaults/linux-64::asn1crypto==0.24.0=py37_0\n",
      "  - defaults/linux-64::chardet==3.0.4=py37_1\n",
      "  - defaults/linux-64::setuptools==40.6.3=py37_0\n",
      "  - defaults/linux-64::cffi==1.11.5=py37he75722e_1\n",
      "  - defaults/linux-64::sqlite==3.26.0=h7b6447c_0\n",
      "  - defaults/linux-64::xz==5.2.4=h14c3975_4\n",
      "  - defaults/linux-64::libffi==3.2.1=hd88cf55_4\n",
      "  - defaults/linux-64::libgcc-ng==8.2.0=hdf63c60_1\n",
      "  - defaults/linux-64::yaml==0.1.7=had09818_2\n",
      "  - defaults/linux-64::pysocks==1.6.8=py37_0\n",
      "  - defaults/linux-64::python==3.7.1=h0371630_7\n",
      "  - defaults/linux-64::pip==19.0.3=py37_0\n",
      "  - defaults/linux-64::mkl_random==1.0.2=py37hd81dba3_0\n",
      "  - defaults/linux-64::numpy-base==1.16.3=py37hde5b4d6_0\n",
      "  - defaults/linux-64::mkl_fft==1.0.10=py37ha843d7b_0\n",
      "  - defaults/linux-64::openssl==1.1.1b=h7b6447c_1\n",
      "  - defaults/linux-64::conda==4.6.14=py37_0\n",
      "  - defaults/linux-64::certifi==2019.3.9=py37_0\n",
      "  - defaults/linux-64::scipy==1.2.1=py37h7c811a0_0\n",
      "  - defaults/linux-64::numpy==1.16.3=py37h7e9f1db_0\n",
      "done\n",
      "\n",
      "Downloading and Extracting Packages\n",
      "libgcc-ng-9.1.0      | 8.1 MB    | ########## | 100% \n",
      "setuptools-41.2.0    | 630 KB    | ########## | 100% \n",
      "sqlite-3.29.0        | 1.9 MB    | ########## | 100% \n",
      "_libgcc_mutex-0.1    | 3 KB      | ########## | 100% \n",
      "certifi-2019.9.11    | 154 KB    | ########## | 100% \n",
      "openssl-1.1.1d       | 3.7 MB    | ########## | 100% \n",
      "pip-19.2.3           | 1.9 MB    | ########## | 100% \n",
      "python-3.7.3         | 36.7 MB   | ########## | 100% \n",
      "wheel-0.33.6         | 40 KB     | ########## | 100% \n",
      "libedit-3.1.20181209 | 188 KB    | ########## | 100% \n",
      "ca-certificates-2019 | 132 KB    | ########## | 100% \n",
      "Preparing transaction: ...working... done\n",
      "Verifying transaction: ...working... done\n",
      "Executing transaction: ...working... done\n",
      "Ran pip subprocess with arguments:\n",
      "['/opt/conda/bin/python', '-m', 'pip', 'install', '-U', '-r', '/bento/condaenv.fu8rxe5l.requirements.txt']\n",
      "Pip subprocess output:\n",
      "Collecting bentoml[api_server]==0.4.2 (from -r /bento/condaenv.fu8rxe5l.requirements.txt (line 1))\n",
      "  Downloading https://files.pythonhosted.org/packages/ca/ac/177ff676b6286ec080310f2758a9472b32d1c86e5766ab0b129ba43bae69/BentoML-0.4.2-py3-none-any.whl (164kB)\n",
      "Collecting configparser (from bentoml[api_server]==0.4.2->-r /bento/condaenv.fu8rxe5l.requirements.txt (line 1))\n",
      "  Downloading https://files.pythonhosted.org/packages/7a/2a/95ed0501cf5d8709490b1d3a3f9b5cf340da6c433f896bbe9ce08dbe6785/configparser-4.0.2-py2.py3-none-any.whl\n",
      "Collecting protobuf>=3.6.0 (from bentoml[api_server]==0.4.2->-r /bento/condaenv.fu8rxe5l.requirements.txt (line 1))\n",
      "  Downloading https://files.pythonhosted.org/packages/4f/32/ba67677963d9cf557155d5a8f14ae0ffaf278a69a25fb03b5bc9e9e6fd52/protobuf-3.9.2-cp37-cp37m-manylinux1_x86_64.whl (1.2MB)\n",
      "Collecting cerberus (from bentoml[api_server]==0.4.2->-r /bento/condaenv.fu8rxe5l.requirements.txt (line 1))\n",
      "  Downloading https://files.pythonhosted.org/packages/c9/0e/f78e23b778c2234972d364d0f8bea2de0a09f450f65d3f05ce091dd0f104/Cerberus-1.3.1.tar.gz (52kB)\n",
      "Collecting click (from bentoml[api_server]==0.4.2->-r /bento/condaenv.fu8rxe5l.requirements.txt (line 1))\n",
      "  Downloading https://files.pythonhosted.org/packages/fa/37/45185cb5abbc30d7257104c434fe0b07e5a195a6847506c074527aa599ec/Click-7.0-py2.py3-none-any.whl (81kB)\n",
      "Collecting prometheus-client (from bentoml[api_server]==0.4.2->-r /bento/condaenv.fu8rxe5l.requirements.txt (line 1))\n",
      "  Downloading https://files.pythonhosted.org/packages/b3/23/41a5a24b502d35a4ad50a5bb7202a5e1d9a0364d0c12f56db3dbf7aca76d/prometheus_client-0.7.1.tar.gz\n",
      "Requirement already satisfied, skipping upgrade: requests in /opt/conda/lib/python3.7/site-packages (from bentoml[api_server]==0.4.2->-r /bento/condaenv.fu8rxe5l.requirements.txt (line 1)) (2.21.0)\n",
      "Collecting boto3 (from bentoml[api_server]==0.4.2->-r /bento/condaenv.fu8rxe5l.requirements.txt (line 1))\n",
      "  Downloading https://files.pythonhosted.org/packages/c3/16/ba4d09feba1fec565f6fa3d5904540c35cf5add21d8ea1b8c7add88ea77d/boto3-1.9.236-py2.py3-none-any.whl (128kB)\n",
      "Collecting python-json-logger (from bentoml[api_server]==0.4.2->-r /bento/condaenv.fu8rxe5l.requirements.txt (line 1))\n",
      "  Downloading https://files.pythonhosted.org/packages/80/9d/1c3393a6067716e04e6fcef95104c8426d262b4adaf18d7aa2470eab028d/python-json-logger-0.1.11.tar.gz\n",
      "Requirement already satisfied, skipping upgrade: gunicorn in /opt/conda/lib/python3.7/site-packages (from bentoml[api_server]==0.4.2->-r /bento/condaenv.fu8rxe5l.requirements.txt (line 1)) (19.9.0)\n",
      "Collecting dill (from bentoml[api_server]==0.4.2->-r /bento/condaenv.fu8rxe5l.requirements.txt (line 1))\n",
      "  Downloading https://files.pythonhosted.org/packages/39/7a/70803635c850e351257029089d38748516a280864c97cbc73087afef6d51/dill-0.3.0.tar.gz (151kB)\n",
      "Requirement already satisfied, skipping upgrade: six in /opt/conda/lib/python3.7/site-packages (from bentoml[api_server]==0.4.2->-r /bento/condaenv.fu8rxe5l.requirements.txt (line 1)) (1.12.0)\n",
      "Collecting packaging (from bentoml[api_server]==0.4.2->-r /bento/condaenv.fu8rxe5l.requirements.txt (line 1))\n",
      "  Downloading https://files.pythonhosted.org/packages/cf/94/9672c2d4b126e74c4496c6b3c58a8b51d6419267be9e70660ba23374c875/packaging-19.2-py2.py3-none-any.whl\n",
      "Collecting flask (from bentoml[api_server]==0.4.2->-r /bento/condaenv.fu8rxe5l.requirements.txt (line 1))\n",
      "  Downloading https://files.pythonhosted.org/packages/9b/93/628509b8d5dc749656a9641f4caf13540e2cdec85276964ff8f43bbb1d3b/Flask-1.1.1-py2.py3-none-any.whl (94kB)\n",
      "Collecting pathlib2 (from bentoml[api_server]==0.4.2->-r /bento/condaenv.fu8rxe5l.requirements.txt (line 1))\n",
      "  Downloading https://files.pythonhosted.org/packages/67/c6/4dbf5dfdbe1140cadf765c3896acc098578626c35721bc7d3eb35f6a8fc1/pathlib2-2.3.4-py2.py3-none-any.whl\n",
      "Collecting ruamel.yaml>=0.15.0 (from bentoml[api_server]==0.4.2->-r /bento/condaenv.fu8rxe5l.requirements.txt (line 1))\n",
      "  Downloading https://files.pythonhosted.org/packages/fa/90/ecff85a2e9c497e2fa7142496e10233556b5137db5bd46f3f3b006935ca8/ruamel.yaml-0.16.5-py2.py3-none-any.whl (123kB)\n",
      "Collecting grpcio (from bentoml[api_server]==0.4.2->-r /bento/condaenv.fu8rxe5l.requirements.txt (line 1))\n",
      "  Downloading https://files.pythonhosted.org/packages/e5/27/1f908ebb99c8d48a5ba4eb9d7997f5633b920d98fe712f67aaa0663f1307/grpcio-1.23.0-cp37-cp37m-manylinux1_x86_64.whl (2.2MB)\n",
      "Collecting docker (from bentoml[api_server]==0.4.2->-r /bento/condaenv.fu8rxe5l.requirements.txt (line 1))\n",
      "  Downloading https://files.pythonhosted.org/packages/95/47/5560c9cf0c92b50da24216f0e7733250fbed5a497f69e3c70e1be62143fe/docker-4.0.2-py2.py3-none-any.whl (138kB)\n",
      "Collecting sqlalchemy (from bentoml[api_server]==0.4.2->-r /bento/condaenv.fu8rxe5l.requirements.txt (line 1))\n",
      "  Downloading https://files.pythonhosted.org/packages/fc/49/82d64d705ced344ba458197dadab30cfa745f9650ee22260ac2b275d288c/SQLAlchemy-1.3.8.tar.gz (5.9MB)\n",
      "Requirement already satisfied, skipping upgrade: numpy in /opt/conda/lib/python3.7/site-packages (from bentoml[api_server]==0.4.2->-r /bento/condaenv.fu8rxe5l.requirements.txt (line 1)) (1.16.3)\n",
      "Collecting pandas (from bentoml[api_server]==0.4.2->-r /bento/condaenv.fu8rxe5l.requirements.txt (line 1))\n",
      "  Downloading https://files.pythonhosted.org/packages/7e/ab/ea76361f9d3e732e114adcd801d2820d5319c23d0ac5482fa3b412db217e/pandas-0.25.1-cp37-cp37m-manylinux1_x86_64.whl (10.4MB)\n",
      "Collecting Werkzeug; extra == \"api_server\" (from bentoml[api_server]==0.4.2->-r /bento/condaenv.fu8rxe5l.requirements.txt (line 1))\n",
      "  Downloading https://files.pythonhosted.org/packages/ce/42/3aeda98f96e85fd26180534d36570e4d18108d62ae36f87694b476b83d6f/Werkzeug-0.16.0-py2.py3-none-any.whl (327kB)\n",
      "Requirement already satisfied, skipping upgrade: setuptools in /opt/conda/lib/python3.7/site-packages (from protobuf>=3.6.0->bentoml[api_server]==0.4.2->-r /bento/condaenv.fu8rxe5l.requirements.txt (line 1)) (41.2.0)\n",
      "Requirement already satisfied, skipping upgrade: certifi>=2017.4.17 in /opt/conda/lib/python3.7/site-packages (from requests->bentoml[api_server]==0.4.2->-r /bento/condaenv.fu8rxe5l.requirements.txt (line 1)) (2019.9.11)\n",
      "Requirement already satisfied, skipping upgrade: chardet<3.1.0,>=3.0.2 in /opt/conda/lib/python3.7/site-packages (from requests->bentoml[api_server]==0.4.2->-r /bento/condaenv.fu8rxe5l.requirements.txt (line 1)) (3.0.4)\n",
      "Requirement already satisfied, skipping upgrade: idna<2.9,>=2.5 in /opt/conda/lib/python3.7/site-packages (from requests->bentoml[api_server]==0.4.2->-r /bento/condaenv.fu8rxe5l.requirements.txt (line 1)) (2.8)\n",
      "Requirement already satisfied, skipping upgrade: urllib3<1.25,>=1.21.1 in /opt/conda/lib/python3.7/site-packages (from requests->bentoml[api_server]==0.4.2->-r /bento/condaenv.fu8rxe5l.requirements.txt (line 1)) (1.24.1)\n",
      "Collecting botocore<1.13.0,>=1.12.236 (from boto3->bentoml[api_server]==0.4.2->-r /bento/condaenv.fu8rxe5l.requirements.txt (line 1))\n",
      "  Downloading https://files.pythonhosted.org/packages/52/2f/1812b5d106b646a8ec86f4066213ad7281006e59157ddafd0f156836b808/botocore-1.12.236-py2.py3-none-any.whl (5.7MB)\n",
      "Collecting jmespath<1.0.0,>=0.7.1 (from boto3->bentoml[api_server]==0.4.2->-r /bento/condaenv.fu8rxe5l.requirements.txt (line 1))\n",
      "  Downloading https://files.pythonhosted.org/packages/83/94/7179c3832a6d45b266ddb2aac329e101367fbdb11f425f13771d27f225bb/jmespath-0.9.4-py2.py3-none-any.whl\n",
      "Collecting s3transfer<0.3.0,>=0.2.0 (from boto3->bentoml[api_server]==0.4.2->-r /bento/condaenv.fu8rxe5l.requirements.txt (line 1))\n",
      "  Downloading https://files.pythonhosted.org/packages/16/8a/1fc3dba0c4923c2a76e1ff0d52b305c44606da63f718d14d3231e21c51b0/s3transfer-0.2.1-py2.py3-none-any.whl (70kB)\n",
      "Collecting pyparsing>=2.0.2 (from packaging->bentoml[api_server]==0.4.2->-r /bento/condaenv.fu8rxe5l.requirements.txt (line 1))\n",
      "  Downloading https://files.pythonhosted.org/packages/11/fa/0160cd525c62d7abd076a070ff02b2b94de589f1a9789774f17d7c54058e/pyparsing-2.4.2-py2.py3-none-any.whl (65kB)\n",
      "Collecting Jinja2>=2.10.1 (from flask->bentoml[api_server]==0.4.2->-r /bento/condaenv.fu8rxe5l.requirements.txt (line 1))\n",
      "  Downloading https://files.pythonhosted.org/packages/1d/e7/fd8b501e7a6dfe492a433deb7b9d833d39ca74916fa8bc63dd1a4947a671/Jinja2-2.10.1-py2.py3-none-any.whl (124kB)\n",
      "Collecting itsdangerous>=0.24 (from flask->bentoml[api_server]==0.4.2->-r /bento/condaenv.fu8rxe5l.requirements.txt (line 1))\n",
      "  Downloading https://files.pythonhosted.org/packages/76/ae/44b03b253d6fade317f32c24d100b3b35c2239807046a4c953c7b89fa49e/itsdangerous-1.1.0-py2.py3-none-any.whl\n",
      "Collecting ruamel.yaml.clib>=0.1.2; platform_python_implementation == \"CPython\" and python_version < \"3.8\" (from ruamel.yaml>=0.15.0->bentoml[api_server]==0.4.2->-r /bento/condaenv.fu8rxe5l.requirements.txt (line 1))\n",
      "  Downloading https://files.pythonhosted.org/packages/f2/bd/ff0d632e1b248c28427a23bd741f5b8f954acba82df86661e5daf7cc79a6/ruamel.yaml.clib-0.1.2-cp37-cp37m-manylinux1_x86_64.whl (547kB)\n",
      "Collecting websocket-client>=0.32.0 (from docker->bentoml[api_server]==0.4.2->-r /bento/condaenv.fu8rxe5l.requirements.txt (line 1))\n",
      "  Downloading https://files.pythonhosted.org/packages/29/19/44753eab1fdb50770ac69605527e8859468f3c0fd7dc5a76dd9c4dbd7906/websocket_client-0.56.0-py2.py3-none-any.whl (200kB)\n",
      "Collecting pytz>=2017.2 (from pandas->bentoml[api_server]==0.4.2->-r /bento/condaenv.fu8rxe5l.requirements.txt (line 1))\n",
      "  Downloading https://files.pythonhosted.org/packages/87/76/46d697698a143e05f77bec5a526bf4e56a0be61d63425b68f4ba553b51f2/pytz-2019.2-py2.py3-none-any.whl (508kB)\n",
      "Collecting python-dateutil>=2.6.1 (from pandas->bentoml[api_server]==0.4.2->-r /bento/condaenv.fu8rxe5l.requirements.txt (line 1))\n",
      "  Downloading https://files.pythonhosted.org/packages/41/17/c62faccbfbd163c7f57f3844689e3a78bae1f403648a6afb1d0866d87fbb/python_dateutil-2.8.0-py2.py3-none-any.whl (226kB)\n",
      "Collecting docutils<0.16,>=0.10 (from botocore<1.13.0,>=1.12.236->boto3->bentoml[api_server]==0.4.2->-r /bento/condaenv.fu8rxe5l.requirements.txt (line 1))\n",
      "  Downloading https://files.pythonhosted.org/packages/22/cd/a6aa959dca619918ccb55023b4cb151949c64d4d5d55b3f4ffd7eee0c6e8/docutils-0.15.2-py3-none-any.whl (547kB)\n",
      "Collecting MarkupSafe>=0.23 (from Jinja2>=2.10.1->flask->bentoml[api_server]==0.4.2->-r /bento/condaenv.fu8rxe5l.requirements.txt (line 1))\n",
      "  Downloading https://files.pythonhosted.org/packages/98/7b/ff284bd8c80654e471b769062a9b43cc5d03e7a615048d96f4619df8d420/MarkupSafe-1.1.1-cp37-cp37m-manylinux1_x86_64.whl\n",
      "Building wheels for collected packages: cerberus, prometheus-client, python-json-logger, dill, sqlalchemy\n",
      "  Building wheel for cerberus (setup.py): started\n",
      "  Building wheel for cerberus (setup.py): finished with status 'done'\n",
      "  Created wheel for cerberus: filename=Cerberus-1.3.1-cp37-none-any.whl size=54128 sha256=bd01f854e78789085156c3a4c706e0ae0d3a32408b7e93bc923aa65917ee23c1\n",
      "  Stored in directory: /root/.cache/pip/wheels/4f/b4/2b/83fc9a02bdbb49350a9eeb6d34753e4d7df7f77cb027e1d4b3\n",
      "  Building wheel for prometheus-client (setup.py): started\n",
      "  Building wheel for prometheus-client (setup.py): finished with status 'done'\n",
      "  Created wheel for prometheus-client: filename=prometheus_client-0.7.1-cp37-none-any.whl size=41402 sha256=d06386b2a5b6d58dfc2fce9723fdd3299ea09fad32f3c9524c4025a8f9ddea95\n",
      "  Stored in directory: /root/.cache/pip/wheels/1c/54/34/fd47cd9b308826cc4292b54449c1899a30251ef3b506bc91ea\n",
      "  Building wheel for python-json-logger (setup.py): started\n",
      "  Building wheel for python-json-logger (setup.py): finished with status 'done'\n",
      "  Created wheel for python-json-logger: filename=python_json_logger-0.1.11-py2.py3-none-any.whl size=5076 sha256=754714b7e1729df3ff399d1fa38a4d078b4aaf80b65b19616b186ec629f18fc3\n",
      "  Stored in directory: /root/.cache/pip/wheels/97/f7/a1/752e22bb30c1cfe38194ea0070a5c66e76ef4d06ad0c7dc401\n",
      "  Building wheel for dill (setup.py): started\n",
      "  Building wheel for dill (setup.py): finished with status 'done'\n",
      "  Created wheel for dill: filename=dill-0.3.0-cp37-none-any.whl size=77513 sha256=1cc5d419605128a7f5a9bd0445f2952b5f2a6855044927e87df51308602c5c94\n",
      "  Stored in directory: /root/.cache/pip/wheels/c9/de/a4/a91eec4eea652104d8c81b633f32ead5eb57d1b294eab24167\n",
      "  Building wheel for sqlalchemy (setup.py): started\n",
      "  Building wheel for sqlalchemy (setup.py): finished with status 'done'\n",
      "  Created wheel for sqlalchemy: filename=SQLAlchemy-1.3.8-cp37-cp37m-linux_x86_64.whl size=1197985 sha256=1ab9e7de1119d4a303638231ba182de0fc7743b38620915dd90f7ef446fd24dc\n",
      "  Stored in directory: /root/.cache/pip/wheels/97/b6/66/de2064d40c920adc2984ff3b8fd4f11494c8ab9e48ba87e8a2\n",
      "Successfully built cerberus prometheus-client python-json-logger dill sqlalchemy\n",
      "Installing collected packages: configparser, protobuf, cerberus, click, prometheus-client, docutils, jmespath, python-dateutil, botocore, s3transfer, boto3, python-json-logger, dill, pyparsing, packaging, MarkupSafe, Jinja2, Werkzeug, itsdangerous, flask, pathlib2, ruamel.yaml.clib, ruamel.yaml, grpcio, websocket-client, docker, sqlalchemy, pytz, pandas, bentoml\n",
      "Successfully installed Jinja2-2.10.1 MarkupSafe-1.1.1 Werkzeug-0.16.0 bentoml-0.4.2 boto3-1.9.236 botocore-1.12.236 cerberus-1.3.1 click-7.0 configparser-4.0.2 dill-0.3.0 docker-4.0.2 docutils-0.15.2 flask-1.1.1 grpcio-1.23.0 itsdangerous-1.1.0 jmespath-0.9.4 packaging-19.2 pandas-0.25.1 pathlib2-2.3.4 prometheus-client-0.7.1 protobuf-3.9.2 pyparsing-2.4.2 python-dateutil-2.8.0 python-json-logger-0.1.11 pytz-2019.2 ruamel.yaml-0.16.5 ruamel.yaml.clib-0.1.2 s3transfer-0.2.1 sqlalchemy-1.3.8 websocket-client-0.56.0\n",
      "\u001b[91m\n",
      "\n",
      "==> WARNING: A newer version of conda exists. <==\n",
      "  current version: 4.6.14\n",
      "  latest version: 4.7.12\n",
      "\n",
      "Please update conda by running\n",
      "\n",
      "    $ conda update -n base -c defaults conda\n",
      "\n",
      "\n",
      "\u001b[0m\n",
      "#\n",
      "# To activate this environment, use:\n",
      "# > conda activate base\n",
      "#\n",
      "# To deactivate an active environment, use:\n",
      "# > conda deactivate\n",
      "#\n",
      "\n"
     ]
    },
    {
     "name": "stdout",
     "output_type": "stream",
     "text": [
      "Removing intermediate container 46ad4dcabd79\n",
      " ---> 0d3c6d9e1972\n",
      "Step 9/11 : RUN pip install -r /bento/requirements.txt\n",
      " ---> Running in cdba5db9fa17\n",
      "Requirement already satisfied: bentoml==0.4.2 in /opt/conda/lib/python3.7/site-packages (from -r /bento/requirements.txt (line 1)) (0.4.2)\n",
      "Collecting scikit-learn (from -r /bento/requirements.txt (line 2))\n",
      "  Downloading https://files.pythonhosted.org/packages/9f/c5/e5267eb84994e9a92a2c6a6ee768514f255d036f3c8378acfa694e9f2c99/scikit_learn-0.21.3-cp37-cp37m-manylinux1_x86_64.whl (6.7MB)\n",
      "Requirement already satisfied: pandas in /opt/conda/lib/python3.7/site-packages (from -r /bento/requirements.txt (line 3)) (0.25.1)\n",
      "Requirement already satisfied: pathlib2 in /opt/conda/lib/python3.7/site-packages (from bentoml==0.4.2->-r /bento/requirements.txt (line 1)) (2.3.4)\n",
      "Requirement already satisfied: cerberus in /opt/conda/lib/python3.7/site-packages (from bentoml==0.4.2->-r /bento/requirements.txt (line 1)) (1.3.1)\n",
      "Requirement already satisfied: configparser in /opt/conda/lib/python3.7/site-packages (from bentoml==0.4.2->-r /bento/requirements.txt (line 1)) (4.0.2)\n",
      "Requirement already satisfied: requests in /opt/conda/lib/python3.7/site-packages (from bentoml==0.4.2->-r /bento/requirements.txt (line 1)) (2.21.0)\n",
      "Requirement already satisfied: boto3 in /opt/conda/lib/python3.7/site-packages (from bentoml==0.4.2->-r /bento/requirements.txt (line 1)) (1.9.236)\n",
      "Requirement already satisfied: ruamel.yaml>=0.15.0 in /opt/conda/lib/python3.7/site-packages (from bentoml==0.4.2->-r /bento/requirements.txt (line 1)) (0.16.5)\n",
      "Requirement already satisfied: six in /opt/conda/lib/python3.7/site-packages (from bentoml==0.4.2->-r /bento/requirements.txt (line 1)) (1.12.0)\n",
      "Requirement already satisfied: protobuf>=3.6.0 in /opt/conda/lib/python3.7/site-packages (from bentoml==0.4.2->-r /bento/requirements.txt (line 1)) (3.9.2)\n",
      "Requirement already satisfied: flask in /opt/conda/lib/python3.7/site-packages (from bentoml==0.4.2->-r /bento/requirements.txt (line 1)) (1.1.1)\n",
      "Requirement already satisfied: dill in /opt/conda/lib/python3.7/site-packages (from bentoml==0.4.2->-r /bento/requirements.txt (line 1)) (0.3.0)\n",
      "Requirement already satisfied: click in /opt/conda/lib/python3.7/site-packages (from bentoml==0.4.2->-r /bento/requirements.txt (line 1)) (7.0)\n",
      "Requirement already satisfied: docker in /opt/conda/lib/python3.7/site-packages (from bentoml==0.4.2->-r /bento/requirements.txt (line 1)) (4.0.2)\n",
      "Requirement already satisfied: gunicorn in /opt/conda/lib/python3.7/site-packages (from bentoml==0.4.2->-r /bento/requirements.txt (line 1)) (19.9.0)\n",
      "Requirement already satisfied: packaging in /opt/conda/lib/python3.7/site-packages (from bentoml==0.4.2->-r /bento/requirements.txt (line 1)) (19.2)\n",
      "Requirement already satisfied: prometheus-client in /opt/conda/lib/python3.7/site-packages (from bentoml==0.4.2->-r /bento/requirements.txt (line 1)) (0.7.1)\n",
      "Requirement already satisfied: sqlalchemy in /opt/conda/lib/python3.7/site-packages (from bentoml==0.4.2->-r /bento/requirements.txt (line 1)) (1.3.8)\n",
      "Requirement already satisfied: python-json-logger in /opt/conda/lib/python3.7/site-packages (from bentoml==0.4.2->-r /bento/requirements.txt (line 1)) (0.1.11)\n",
      "Requirement already satisfied: numpy in /opt/conda/lib/python3.7/site-packages (from bentoml==0.4.2->-r /bento/requirements.txt (line 1)) (1.16.3)\n",
      "Requirement already satisfied: grpcio in /opt/conda/lib/python3.7/site-packages (from bentoml==0.4.2->-r /bento/requirements.txt (line 1)) (1.23.0)\n",
      "Requirement already satisfied: scipy>=0.17.0 in /opt/conda/lib/python3.7/site-packages (from scikit-learn->-r /bento/requirements.txt (line 2)) (1.2.1)\n",
      "Collecting joblib>=0.11 (from scikit-learn->-r /bento/requirements.txt (line 2))\n",
      "  Downloading https://files.pythonhosted.org/packages/cd/c1/50a758e8247561e58cb87305b1e90b171b8c767b15b12a1734001f41d356/joblib-0.13.2-py2.py3-none-any.whl (278kB)\n",
      "Requirement already satisfied: pytz>=2017.2 in /opt/conda/lib/python3.7/site-packages (from pandas->-r /bento/requirements.txt (line 3)) (2019.2)\n",
      "Requirement already satisfied: python-dateutil>=2.6.1 in /opt/conda/lib/python3.7/site-packages (from pandas->-r /bento/requirements.txt (line 3)) (2.8.0)\n",
      "Requirement already satisfied: urllib3<1.25,>=1.21.1 in /opt/conda/lib/python3.7/site-packages (from requests->bentoml==0.4.2->-r /bento/requirements.txt (line 1)) (1.24.1)\n",
      "Requirement already satisfied: certifi>=2017.4.17 in /opt/conda/lib/python3.7/site-packages (from requests->bentoml==0.4.2->-r /bento/requirements.txt (line 1)) (2019.9.11)\n",
      "Requirement already satisfied: chardet<3.1.0,>=3.0.2 in /opt/conda/lib/python3.7/site-packages (from requests->bentoml==0.4.2->-r /bento/requirements.txt (line 1)) (3.0.4)\n",
      "Requirement already satisfied: idna<2.9,>=2.5 in /opt/conda/lib/python3.7/site-packages (from requests->bentoml==0.4.2->-r /bento/requirements.txt (line 1)) (2.8)\n",
      "Requirement already satisfied: jmespath<1.0.0,>=0.7.1 in /opt/conda/lib/python3.7/site-packages (from boto3->bentoml==0.4.2->-r /bento/requirements.txt (line 1)) (0.9.4)\n",
      "Requirement already satisfied: botocore<1.13.0,>=1.12.236 in /opt/conda/lib/python3.7/site-packages (from boto3->bentoml==0.4.2->-r /bento/requirements.txt (line 1)) (1.12.236)\n",
      "Requirement already satisfied: s3transfer<0.3.0,>=0.2.0 in /opt/conda/lib/python3.7/site-packages (from boto3->bentoml==0.4.2->-r /bento/requirements.txt (line 1)) (0.2.1)\n",
      "Requirement already satisfied: ruamel.yaml.clib>=0.1.2; platform_python_implementation == \"CPython\" and python_version < \"3.8\" in /opt/conda/lib/python3.7/site-packages (from ruamel.yaml>=0.15.0->bentoml==0.4.2->-r /bento/requirements.txt (line 1)) (0.1.2)\n",
      "Requirement already satisfied: setuptools in /opt/conda/lib/python3.7/site-packages (from protobuf>=3.6.0->bentoml==0.4.2->-r /bento/requirements.txt (line 1)) (41.2.0)\n",
      "Requirement already satisfied: Werkzeug>=0.15 in /opt/conda/lib/python3.7/site-packages (from flask->bentoml==0.4.2->-r /bento/requirements.txt (line 1)) (0.16.0)\n",
      "Requirement already satisfied: itsdangerous>=0.24 in /opt/conda/lib/python3.7/site-packages (from flask->bentoml==0.4.2->-r /bento/requirements.txt (line 1)) (1.1.0)\n",
      "Requirement already satisfied: Jinja2>=2.10.1 in /opt/conda/lib/python3.7/site-packages (from flask->bentoml==0.4.2->-r /bento/requirements.txt (line 1)) (2.10.1)\n",
      "Requirement already satisfied: websocket-client>=0.32.0 in /opt/conda/lib/python3.7/site-packages (from docker->bentoml==0.4.2->-r /bento/requirements.txt (line 1)) (0.56.0)\n",
      "Requirement already satisfied: pyparsing>=2.0.2 in /opt/conda/lib/python3.7/site-packages (from packaging->bentoml==0.4.2->-r /bento/requirements.txt (line 1)) (2.4.2)\n",
      "Requirement already satisfied: docutils<0.16,>=0.10 in /opt/conda/lib/python3.7/site-packages (from botocore<1.13.0,>=1.12.236->boto3->bentoml==0.4.2->-r /bento/requirements.txt (line 1)) (0.15.2)\n",
      "Requirement already satisfied: MarkupSafe>=0.23 in /opt/conda/lib/python3.7/site-packages (from Jinja2>=2.10.1->flask->bentoml==0.4.2->-r /bento/requirements.txt (line 1)) (1.1.1)\n",
      "Installing collected packages: joblib, scikit-learn\n",
      "Successfully installed joblib-0.13.2 scikit-learn-0.21.3\n",
      "Removing intermediate container cdba5db9fa17\n",
      " ---> 074a6de9feda\n",
      "Step 10/11 : RUN if [ -f /bento/setup.sh ]; then /bin/bash -c /bento/setup.sh; fi\n",
      " ---> Running in cf7f244d65ff\n",
      "Removing intermediate container cf7f244d65ff\n",
      " ---> 13a8614e8bca\n",
      "Step 11/11 : CMD [\"bentoml serve-gunicorn /bento\"]\n",
      " ---> Running in 0342791f09fc\n",
      "Removing intermediate container 0342791f09fc\n",
      " ---> 11dc20f984cc\n",
      "Successfully built 11dc20f984cc\n",
      "Successfully tagged sentiment-analysis-service:latest\n"
     ]
    }
   ],
   "source": [
    "!cd {saved_path} && docker build -t sentiment-analysis-service ."
   ]
  },
  {
   "cell_type": "markdown",
   "metadata": {},
   "source": [
    "### 2) run docker image and expose port 5000"
   ]
  },
  {
   "cell_type": "code",
   "execution_count": null,
   "metadata": {},
   "outputs": [
    {
     "name": "stdout",
     "output_type": "stream",
     "text": [
      "[2019-09-25 22:30:26 +0000] [1] [INFO] Starting gunicorn 19.9.0\n",
      "[2019-09-25 22:30:26 +0000] [1] [INFO] Listening at: http://0.0.0.0:5000 (1)\n",
      "[2019-09-25 22:30:26 +0000] [1] [INFO] Using worker: sync\n",
      "[2019-09-25 22:30:26 +0000] [10] [INFO] Booting worker with pid: 10\n",
      "[2019-09-25 22:30:26 +0000] [11] [INFO] Booting worker with pid: 11\n",
      "[2019-09-25 22:30:26 +0000] [12] [INFO] Booting worker with pid: 12\n"
     ]
    }
   ],
   "source": [
    "!docker run -p 5000:5000 sentiment-analysis-service"
   ]
  },
  {
   "cell_type": "markdown",
   "metadata": {},
   "source": [
    "### 3) Similarly use the following command to query the REST server in Docker\n",
    "\n",
    "```bash\n",
    "curl -i \\\n",
    "--header \"Content-Type: application/json\" \\\n",
    "--request POST \\\n",
    "--data '[\"some new text, sweet noodles\", \"happy time\", \"sad day\"]' \\\n",
    "localhost:5000/predict\n",
    "```"
   ]
  }
 ],
 "metadata": {
  "kernelspec": {
   "display_name": "Python 3",
   "language": "python",
   "name": "python3"
  },
  "language_info": {
   "codemirror_mode": {
    "name": "ipython",
    "version": 3
   },
   "file_extension": ".py",
   "mimetype": "text/x-python",
   "name": "python",
   "nbconvert_exporter": "python",
   "pygments_lexer": "ipython3",
   "version": "3.7.3"
  }
 },
 "nbformat": 4,
 "nbformat_minor": 2
}
