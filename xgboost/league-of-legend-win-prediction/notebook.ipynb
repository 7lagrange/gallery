{
 "cells": [
  {
   "cell_type": "markdown",
   "metadata": {},
   "source": [
    "# League of legend win prediction with XgBoost\n",
    "\n",
    "\n",
    "notebook from https://slundberg.github.io/shap/notebooks/League%20of%20Legends%20Win%20Prediction%20with%20XGBoost.html\n",
    "\n",
    "![Impression](https://www.google-analytics.com/collect?v=1&tid=UA-112879361-3&cid=555&t=event&ec=nb&ea=open&el=gallery-example&dt=xgboost-lol-win)"
   ]
  },
  {
   "cell_type": "code",
   "execution_count": 3,
   "metadata": {},
   "outputs": [
    {
     "name": "stdout",
     "output_type": "stream",
     "text": [
      "Requirement already satisfied: bentoml in /usr/local/anaconda3/envs/dev-py3/lib/python3.7/site-packages (0.3.0)\n",
      "Requirement already satisfied: docker in /usr/local/anaconda3/envs/dev-py3/lib/python3.7/site-packages (from bentoml) (4.0.2)\n",
      "Requirement already satisfied: pandas in /usr/local/anaconda3/envs/dev-py3/lib/python3.7/site-packages (from bentoml) (0.24.2)\n",
      "Requirement already satisfied: click in /usr/local/anaconda3/envs/dev-py3/lib/python3.7/site-packages (from bentoml) (7.0)\n",
      "Requirement already satisfied: flask in /usr/local/anaconda3/envs/dev-py3/lib/python3.7/site-packages (from bentoml) (1.1.1)\n",
      "Requirement already satisfied: pathlib2 in /usr/local/anaconda3/envs/dev-py3/lib/python3.7/site-packages (from bentoml) (2.3.4)\n",
      "Requirement already satisfied: configparser in /usr/local/anaconda3/envs/dev-py3/lib/python3.7/site-packages (from bentoml) (3.7.4)\n",
      "Requirement already satisfied: numpy in /usr/local/anaconda3/envs/dev-py3/lib/python3.7/site-packages (from bentoml) (1.16.4)\n",
      "Requirement already satisfied: boto3 in /usr/local/anaconda3/envs/dev-py3/lib/python3.7/site-packages (from bentoml) (1.9.188)\n",
      "Requirement already satisfied: six in /usr/local/anaconda3/envs/dev-py3/lib/python3.7/site-packages (from bentoml) (1.12.0)\n",
      "Requirement already satisfied: ruamel.yaml>=0.15.0 in /usr/local/anaconda3/envs/dev-py3/lib/python3.7/site-packages (from bentoml) (0.15.99)\n",
      "Requirement already satisfied: requests in /usr/local/anaconda3/envs/dev-py3/lib/python3.7/site-packages (from bentoml) (2.22.0)\n",
      "Requirement already satisfied: python-json-logger in /usr/local/anaconda3/envs/dev-py3/lib/python3.7/site-packages (from bentoml) (0.1.11)\n",
      "Requirement already satisfied: dill in /usr/local/anaconda3/envs/dev-py3/lib/python3.7/site-packages (from bentoml) (0.3.0)\n",
      "Requirement already satisfied: prometheus-client in /usr/local/anaconda3/envs/dev-py3/lib/python3.7/site-packages (from bentoml) (0.7.1)\n",
      "Requirement already satisfied: packaging in /usr/local/anaconda3/envs/dev-py3/lib/python3.7/site-packages (from bentoml) (19.0)\n",
      "Requirement already satisfied: gunicorn in /usr/local/anaconda3/envs/dev-py3/lib/python3.7/site-packages (from bentoml) (19.9.0)\n",
      "Requirement already satisfied: websocket-client>=0.32.0 in /usr/local/anaconda3/envs/dev-py3/lib/python3.7/site-packages (from docker->bentoml) (0.56.0)\n",
      "Requirement already satisfied: python-dateutil>=2.5.0 in /usr/local/anaconda3/envs/dev-py3/lib/python3.7/site-packages (from pandas->bentoml) (2.8.0)\n",
      "Requirement already satisfied: pytz>=2011k in /usr/local/anaconda3/envs/dev-py3/lib/python3.7/site-packages (from pandas->bentoml) (2019.1)\n",
      "Requirement already satisfied: Werkzeug>=0.15 in /usr/local/anaconda3/envs/dev-py3/lib/python3.7/site-packages (from flask->bentoml) (0.15.4)\n",
      "Requirement already satisfied: itsdangerous>=0.24 in /usr/local/anaconda3/envs/dev-py3/lib/python3.7/site-packages (from flask->bentoml) (1.1.0)\n",
      "Requirement already satisfied: Jinja2>=2.10.1 in /usr/local/anaconda3/envs/dev-py3/lib/python3.7/site-packages (from flask->bentoml) (2.10.1)\n",
      "Requirement already satisfied: s3transfer<0.3.0,>=0.2.0 in /usr/local/anaconda3/envs/dev-py3/lib/python3.7/site-packages (from boto3->bentoml) (0.2.1)\n",
      "Requirement already satisfied: jmespath<1.0.0,>=0.7.1 in /usr/local/anaconda3/envs/dev-py3/lib/python3.7/site-packages (from boto3->bentoml) (0.9.4)\n",
      "Requirement already satisfied: botocore<1.13.0,>=1.12.188 in /usr/local/anaconda3/envs/dev-py3/lib/python3.7/site-packages (from boto3->bentoml) (1.12.188)\n",
      "Requirement already satisfied: idna<2.9,>=2.5 in /usr/local/anaconda3/envs/dev-py3/lib/python3.7/site-packages (from requests->bentoml) (2.8)\n",
      "Requirement already satisfied: chardet<3.1.0,>=3.0.2 in /usr/local/anaconda3/envs/dev-py3/lib/python3.7/site-packages (from requests->bentoml) (3.0.4)\n",
      "Requirement already satisfied: urllib3!=1.25.0,!=1.25.1,<1.26,>=1.21.1 in /usr/local/anaconda3/envs/dev-py3/lib/python3.7/site-packages (from requests->bentoml) (1.25.3)\n",
      "Requirement already satisfied: certifi>=2017.4.17 in /usr/local/anaconda3/envs/dev-py3/lib/python3.7/site-packages (from requests->bentoml) (2019.6.16)\n",
      "Requirement already satisfied: pyparsing>=2.0.2 in /usr/local/anaconda3/envs/dev-py3/lib/python3.7/site-packages (from packaging->bentoml) (2.4.0)\n",
      "Requirement already satisfied: MarkupSafe>=0.23 in /usr/local/anaconda3/envs/dev-py3/lib/python3.7/site-packages (from Jinja2>=2.10.1->flask->bentoml) (1.1.1)\n",
      "Requirement already satisfied: docutils>=0.10 in /usr/local/anaconda3/envs/dev-py3/lib/python3.7/site-packages (from botocore<1.13.0,>=1.12.188->boto3->bentoml) (0.14)\n",
      "Requirement already satisfied: numpy in /usr/local/anaconda3/envs/dev-py3/lib/python3.7/site-packages (1.16.4)\n",
      "Requirement already satisfied: xgboost in /usr/local/anaconda3/envs/dev-py3/lib/python3.7/site-packages (0.82)\n",
      "Requirement already satisfied: sklearn in /usr/local/anaconda3/envs/dev-py3/lib/python3.7/site-packages (0.0)\n",
      "Requirement already satisfied: matplotlib in /usr/local/anaconda3/envs/dev-py3/lib/python3.7/site-packages (3.1.1)\n",
      "Requirement already satisfied: scipy in /usr/local/anaconda3/envs/dev-py3/lib/python3.7/site-packages (from xgboost) (1.2.1)\n",
      "Requirement already satisfied: scikit-learn in /usr/local/anaconda3/envs/dev-py3/lib/python3.7/site-packages (from sklearn) (0.20.3)\n",
      "Requirement already satisfied: python-dateutil>=2.1 in /usr/local/anaconda3/envs/dev-py3/lib/python3.7/site-packages (from matplotlib) (2.8.0)\n",
      "Requirement already satisfied: kiwisolver>=1.0.1 in /usr/local/anaconda3/envs/dev-py3/lib/python3.7/site-packages (from matplotlib) (1.1.0)\n",
      "Requirement already satisfied: cycler>=0.10 in /usr/local/anaconda3/envs/dev-py3/lib/python3.7/site-packages (from matplotlib) (0.10.0)\n",
      "Requirement already satisfied: pyparsing!=2.0.4,!=2.1.2,!=2.1.6,>=2.0.1 in /usr/local/anaconda3/envs/dev-py3/lib/python3.7/site-packages (from matplotlib) (2.4.0)\n",
      "Requirement already satisfied: six>=1.5 in /usr/local/anaconda3/envs/dev-py3/lib/python3.7/site-packages (from python-dateutil>=2.1->matplotlib) (1.12.0)\n",
      "Requirement already satisfied: setuptools in /usr/local/anaconda3/envs/dev-py3/lib/python3.7/site-packages (from kiwisolver>=1.0.1->matplotlib) (40.8.0)\n"
     ]
    }
   ],
   "source": [
    "!pip install bentoml\n",
    "!pip install numpy xgboost sklearn matplotlib"
   ]
  },
  {
   "cell_type": "code",
   "execution_count": 4,
   "metadata": {},
   "outputs": [],
   "source": [
    "import pandas as pd\n",
    "import numpy as np\n",
    "import xgboost as xgb\n",
    "from sklearn.model_selection import train_test_split\n",
    "import matplotlib.pyplot as pl"
   ]
  },
  {
   "cell_type": "markdown",
   "metadata": {},
   "source": [
    "## Download Data\n",
    "\n",
    "Visit kaggle and download the dataset `matches.csv`, `participants.csv`, `stats1.csv`, `stats2.csv` at https://www.kaggle.com/paololol/league-of-legends-ranked-matches/downloads/stats2.csv/data"
   ]
  },
  {
   "cell_type": "markdown",
   "metadata": {},
   "source": [
    "## Load data"
   ]
  },
  {
   "cell_type": "code",
   "execution_count": 12,
   "metadata": {},
   "outputs": [],
   "source": [
    "# read in the data\n",
    "matches = pd.read_csv(\"matches.csv\")\n",
    "participants = pd.read_csv(\"participants.csv\")\n",
    "stats1 = pd.read_csv(\"stats1.csv\", low_memory=False)\n",
    "stats2 = pd.read_csv(\"stats2.csv\", low_memory=False)\n",
    "stats = pd.concat([stats1,stats2])\n",
    "\n",
    "# merge into a single DataFrame\n",
    "a = pd.merge(participants, matches, left_on=\"matchid\", right_on=\"id\")\n",
    "allstats_orig = pd.merge(a, stats, left_on=\"matchid\", right_on=\"id\")\n",
    "allstats = allstats_orig.copy()\n",
    "\n",
    "# drop games that lasted less than 10 minutes\n",
    "allstats = allstats.loc[allstats[\"duration\"] >= 10*60,:]\n",
    "\n",
    "# Convert string-based categories to numeric values\n",
    "cat_cols = [\"role\", \"position\", \"version\", \"platformid\"]\n",
    "for c in cat_cols:\n",
    "    allstats[c] = allstats[c].astype('category')\n",
    "    allstats[c] = allstats[c].cat.codes\n",
    "allstats[\"wardsbought\"] = allstats[\"wardsbought\"].astype(np.int32)\n",
    "\n",
    "X = allstats.drop([\"win\"], axis=1)\n",
    "y = allstats[\"win\"]\n",
    "\n",
    "# convert all features we want to consider as rates\n",
    "rate_features = [\n",
    "    \"kills\", \"deaths\", \"assists\", \"killingsprees\", \"doublekills\",\n",
    "    \"triplekills\", \"quadrakills\", \"pentakills\", \"legendarykills\",\n",
    "    \"totdmgdealt\", \"magicdmgdealt\", \"physicaldmgdealt\", \"truedmgdealt\",\n",
    "    \"totdmgtochamp\", \"magicdmgtochamp\", \"physdmgtochamp\", \"truedmgtochamp\",\n",
    "    \"totheal\", \"totunitshealed\", \"dmgtoobj\", \"timecc\", \"totdmgtaken\",\n",
    "    \"magicdmgtaken\" , \"physdmgtaken\", \"truedmgtaken\", \"goldearned\", \"goldspent\",\n",
    "    \"totminionskilled\", \"neutralminionskilled\", \"ownjunglekills\",\n",
    "    \"enemyjunglekills\", \"totcctimedealt\", \"pinksbought\", \"wardsbought\",\n",
    "    \"wardsplaced\", \"wardskilled\"\n",
    "]\n",
    "for feature_name in rate_features:\n",
    "    X[feature_name] /= X[\"duration\"] / 60 # per minute rate\n",
    "\n",
    "# convert to fraction of game\n",
    "X[\"longesttimespentliving\"] /= X[\"duration\"]\n",
    "\n",
    "# define friendly names for the features\n",
    "full_names = {\n",
    "    \"kills\": \"Kills per min.\",\n",
    "    \"deaths\": \"Deaths per min.\",\n",
    "    \"assists\": \"Assists per min.\",\n",
    "    \"killingsprees\": \"Killing sprees per min.\",\n",
    "    \"longesttimespentliving\": \"Longest time living as % of game\",\n",
    "    \"doublekills\": \"Double kills per min.\",\n",
    "    \"triplekills\": \"Triple kills per min.\",\n",
    "    \"quadrakills\": \"Quadra kills per min.\",\n",
    "    \"pentakills\": \"Penta kills per min.\",\n",
    "    \"legendarykills\": \"Legendary kills per min.\",\n",
    "    \"totdmgdealt\": \"Total damage dealt per min.\",\n",
    "    \"magicdmgdealt\": \"Magic damage dealt per min.\",\n",
    "    \"physicaldmgdealt\": \"Physical damage dealt per min.\",\n",
    "    \"truedmgdealt\": \"True damage dealt per min.\",\n",
    "    \"totdmgtochamp\": \"Total damage to champions per min.\",\n",
    "    \"magicdmgtochamp\": \"Magic damage to champions per min.\",\n",
    "    \"physdmgtochamp\": \"Physical damage to champions per min.\",\n",
    "    \"truedmgtochamp\": \"True damage to champions per min.\",\n",
    "    \"totheal\": \"Total healing per min.\",\n",
    "    \"totunitshealed\": \"Total units healed per min.\",\n",
    "    \"dmgtoobj\": \"Damage to objects per min.\",\n",
    "    \"timecc\": \"Time spent with crown control per min.\",\n",
    "    \"totdmgtaken\": \"Total damage taken per min.\",\n",
    "    \"magicdmgtaken\": \"Magic damage taken per min.\",\n",
    "    \"physdmgtaken\": \"Physical damage taken per min.\",\n",
    "    \"truedmgtaken\": \"True damage taken per min.\",\n",
    "    \"goldearned\": \"Gold earned per min.\",\n",
    "    \"goldspent\": \"Gold spent per min.\",\n",
    "    \"totminionskilled\": \"Total minions killed per min.\",\n",
    "    \"neutralminionskilled\": \"Neutral minions killed per min.\",\n",
    "    \"ownjunglekills\": \"Own jungle kills per min.\",\n",
    "    \"enemyjunglekills\": \"Enemy jungle kills per min.\",\n",
    "    \"totcctimedealt\": \"Total crown control time dealt per min.\",\n",
    "    \"pinksbought\": \"Pink wards bought per min.\",\n",
    "    \"wardsbought\": \"Wards bought per min.\",\n",
    "    \"wardsplaced\": \"Wards placed per min.\",\n",
    "    \"turretkills\": \"# of turret kills\",\n",
    "    \"inhibkills\": \"# of inhibitor kills\",\n",
    "    \"dmgtoturrets\": \"Damage to turrets\"\n",
    "}\n",
    "feature_names = [full_names.get(n, n) for n in X.columns]\n",
    "X.columns = feature_names\n",
    "\n",
    "# create train/validation split\n",
    "Xt, Xv, yt, yv = train_test_split(X,y, test_size=0.2, random_state=10)\n",
    "dt = xgb.DMatrix(Xt, label=yt.values)\n",
    "dv = xgb.DMatrix(Xv, label=yv.values)"
   ]
  },
  {
   "cell_type": "markdown",
   "metadata": {},
   "source": [
    "## Train the XGBoost model\n"
   ]
  },
  {
   "cell_type": "code",
   "execution_count": 13,
   "metadata": {},
   "outputs": [
    {
     "name": "stdout",
     "output_type": "stream",
     "text": [
      "[0]\ttrain-logloss:0.543193\tvalid-logloss:0.541947\n",
      "Multiple eval metrics have been passed: 'valid-logloss' will be used for early stopping.\n",
      "\n",
      "Will train until valid-logloss hasn't improved in 5 rounds.\n",
      "[25]\ttrain-logloss:0.286065\tvalid-logloss:0.286603\n",
      "[50]\ttrain-logloss:0.251781\tvalid-logloss:0.253591\n",
      "[75]\ttrain-logloss:0.233638\tvalid-logloss:0.236202\n",
      "[100]\ttrain-logloss:0.221021\tvalid-logloss:0.2243\n",
      "[125]\ttrain-logloss:0.211856\tvalid-logloss:0.215922\n",
      "[150]\ttrain-logloss:0.2028\tvalid-logloss:0.207597\n",
      "[175]\ttrain-logloss:0.195752\tvalid-logloss:0.2011\n",
      "[200]\ttrain-logloss:0.1898\tvalid-logloss:0.195689\n",
      "[225]\ttrain-logloss:0.183355\tvalid-logloss:0.189494\n",
      "[250]\ttrain-logloss:0.1781\tvalid-logloss:0.184515\n",
      "[275]\ttrain-logloss:0.172431\tvalid-logloss:0.179242\n",
      "[299]\ttrain-logloss:0.167329\tvalid-logloss:0.174417\n"
     ]
    }
   ],
   "source": [
    "params = {\n",
    "    \"eta\": 0.5,\n",
    "    \"max_depth\": 4,\n",
    "    \"objective\": \"binary:logistic\",\n",
    "    \"silent\": 1,\n",
    "    \"base_score\": np.mean(yt),\n",
    "    \"eval_metric\": \"logloss\"\n",
    "}\n",
    "model = xgb.train(params, dt, 300, [(dt, \"train\"),(dv, \"valid\")], early_stopping_rounds=5, verbose_eval=25)\n"
   ]
  },
  {
   "cell_type": "code",
   "execution_count": 25,
   "metadata": {},
   "outputs": [
    {
     "data": {
      "text/html": [
       "<div>\n",
       "<style scoped>\n",
       "    .dataframe tbody tr th:only-of-type {\n",
       "        vertical-align: middle;\n",
       "    }\n",
       "\n",
       "    .dataframe tbody tr th {\n",
       "        vertical-align: top;\n",
       "    }\n",
       "\n",
       "    .dataframe thead th {\n",
       "        text-align: right;\n",
       "    }\n",
       "</style>\n",
       "<table border=\"1\" class=\"dataframe\">\n",
       "  <thead>\n",
       "    <tr style=\"text-align: right;\">\n",
       "      <th></th>\n",
       "      <th>id_x</th>\n",
       "      <th>matchid</th>\n",
       "      <th>player</th>\n",
       "      <th>championid</th>\n",
       "      <th>ss1</th>\n",
       "      <th>ss2</th>\n",
       "      <th>role</th>\n",
       "      <th>position</th>\n",
       "      <th>id_y</th>\n",
       "      <th>gameid</th>\n",
       "      <th>...</th>\n",
       "      <th>Neutral minions killed per min.</th>\n",
       "      <th>Own jungle kills per min.</th>\n",
       "      <th>Enemy jungle kills per min.</th>\n",
       "      <th>Total crown control time dealt per min.</th>\n",
       "      <th>champlvl</th>\n",
       "      <th>Pink wards bought per min.</th>\n",
       "      <th>Wards bought per min.</th>\n",
       "      <th>Wards placed per min.</th>\n",
       "      <th>wardskilled</th>\n",
       "      <th>firstblood</th>\n",
       "    </tr>\n",
       "  </thead>\n",
       "  <tbody>\n",
       "    <tr>\n",
       "      <th>1215555</th>\n",
       "      <td>1501034</td>\n",
       "      <td>150933</td>\n",
       "      <td>10</td>\n",
       "      <td>59</td>\n",
       "      <td>4</td>\n",
       "      <td>11</td>\n",
       "      <td>2</td>\n",
       "      <td>2</td>\n",
       "      <td>150933</td>\n",
       "      <td>3162804935</td>\n",
       "      <td>...</td>\n",
       "      <td>0.023086</td>\n",
       "      <td>0.023086</td>\n",
       "      <td>0.000000</td>\n",
       "      <td>7.572143</td>\n",
       "      <td>18</td>\n",
       "      <td>0.069257</td>\n",
       "      <td>0.0</td>\n",
       "      <td>0.831089</td>\n",
       "      <td>0.253944</td>\n",
       "      <td>0</td>\n",
       "    </tr>\n",
       "    <tr>\n",
       "      <th>1427835</th>\n",
       "      <td>1713614</td>\n",
       "      <td>172357</td>\n",
       "      <td>6</td>\n",
       "      <td>35</td>\n",
       "      <td>11</td>\n",
       "      <td>14</td>\n",
       "      <td>3</td>\n",
       "      <td>1</td>\n",
       "      <td>172357</td>\n",
       "      <td>3186087472</td>\n",
       "      <td>...</td>\n",
       "      <td>0.028262</td>\n",
       "      <td>0.028262</td>\n",
       "      <td>0.000000</td>\n",
       "      <td>10.937353</td>\n",
       "      <td>16</td>\n",
       "      <td>0.000000</td>\n",
       "      <td>0.0</td>\n",
       "      <td>0.197833</td>\n",
       "      <td>0.000000</td>\n",
       "      <td>0</td>\n",
       "    </tr>\n",
       "    <tr>\n",
       "      <th>1204118</th>\n",
       "      <td>1489597</td>\n",
       "      <td>149786</td>\n",
       "      <td>3</td>\n",
       "      <td>34</td>\n",
       "      <td>4</td>\n",
       "      <td>14</td>\n",
       "      <td>4</td>\n",
       "      <td>2</td>\n",
       "      <td>149786</td>\n",
       "      <td>3193266242</td>\n",
       "      <td>...</td>\n",
       "      <td>0.882817</td>\n",
       "      <td>0.693642</td>\n",
       "      <td>0.189175</td>\n",
       "      <td>11.192853</td>\n",
       "      <td>18</td>\n",
       "      <td>0.063058</td>\n",
       "      <td>0.0</td>\n",
       "      <td>0.567525</td>\n",
       "      <td>0.189175</td>\n",
       "      <td>0</td>\n",
       "    </tr>\n",
       "  </tbody>\n",
       "</table>\n",
       "<p>3 rows × 71 columns</p>\n",
       "</div>"
      ],
      "text/plain": [
       "            id_x  matchid  player  championid  ss1  ss2  role  position  \\\n",
       "1215555  1501034   150933      10          59    4   11     2         2   \n",
       "1427835  1713614   172357       6          35   11   14     3         1   \n",
       "1204118  1489597   149786       3          34    4   14     4         2   \n",
       "\n",
       "           id_y      gameid  ...  Neutral minions killed per min.  \\\n",
       "1215555  150933  3162804935  ...                         0.023086   \n",
       "1427835  172357  3186087472  ...                         0.028262   \n",
       "1204118  149786  3193266242  ...                         0.882817   \n",
       "\n",
       "         Own jungle kills per min.  Enemy jungle kills per min.  \\\n",
       "1215555                   0.023086                     0.000000   \n",
       "1427835                   0.028262                     0.000000   \n",
       "1204118                   0.693642                     0.189175   \n",
       "\n",
       "         Total crown control time dealt per min.  champlvl  \\\n",
       "1215555                                 7.572143        18   \n",
       "1427835                                10.937353        16   \n",
       "1204118                                11.192853        18   \n",
       "\n",
       "         Pink wards bought per min.  Wards bought per min.  \\\n",
       "1215555                    0.069257                    0.0   \n",
       "1427835                    0.000000                    0.0   \n",
       "1204118                    0.063058                    0.0   \n",
       "\n",
       "         Wards placed per min.  wardskilled  firstblood  \n",
       "1215555               0.831089     0.253944           0  \n",
       "1427835               0.197833     0.000000           0  \n",
       "1204118               0.567525     0.189175           0  \n",
       "\n",
       "[3 rows x 71 columns]"
      ]
     },
     "execution_count": 25,
     "metadata": {},
     "output_type": "execute_result"
    }
   ],
   "source": [
    "Xt[:3]"
   ]
  },
  {
   "cell_type": "code",
   "execution_count": 26,
   "metadata": {},
   "outputs": [
    {
     "data": {
      "text/plain": [
       "['__class__',\n",
       " '__copy__',\n",
       " '__deepcopy__',\n",
       " '__del__',\n",
       " '__delattr__',\n",
       " '__dict__',\n",
       " '__dir__',\n",
       " '__doc__',\n",
       " '__eq__',\n",
       " '__format__',\n",
       " '__ge__',\n",
       " '__getattribute__',\n",
       " '__getstate__',\n",
       " '__gt__',\n",
       " '__hash__',\n",
       " '__init__',\n",
       " '__init_subclass__',\n",
       " '__le__',\n",
       " '__lt__',\n",
       " '__module__',\n",
       " '__ne__',\n",
       " '__new__',\n",
       " '__reduce__',\n",
       " '__reduce_ex__',\n",
       " '__repr__',\n",
       " '__setattr__',\n",
       " '__setstate__',\n",
       " '__sizeof__',\n",
       " '__str__',\n",
       " '__subclasshook__',\n",
       " '__weakref__',\n",
       " '_validate_features',\n",
       " 'attr',\n",
       " 'attributes',\n",
       " 'best_iteration',\n",
       " 'best_ntree_limit',\n",
       " 'best_score',\n",
       " 'boost',\n",
       " 'booster',\n",
       " 'copy',\n",
       " 'dump_model',\n",
       " 'eval',\n",
       " 'eval_set',\n",
       " 'feature_names',\n",
       " 'feature_types',\n",
       " 'get_dump',\n",
       " 'get_fscore',\n",
       " 'get_score',\n",
       " 'get_split_value_histogram',\n",
       " 'handle',\n",
       " 'load_model',\n",
       " 'load_rabit_checkpoint',\n",
       " 'predict',\n",
       " 'save_model',\n",
       " 'save_rabit_checkpoint',\n",
       " 'save_raw',\n",
       " 'set_attr',\n",
       " 'set_param',\n",
       " 'trees_to_dataframe',\n",
       " 'update']"
      ]
     },
     "execution_count": 26,
     "metadata": {},
     "output_type": "execute_result"
    }
   ],
   "source": [
    "dir(model)"
   ]
  },
  {
   "cell_type": "code",
   "execution_count": 28,
   "metadata": {},
   "outputs": [
    {
     "data": {
      "text/plain": [
       "array([0.26397082, 0.05626516, 0.011282  ], dtype=float32)"
      ]
     },
     "execution_count": 28,
     "metadata": {},
     "output_type": "execute_result"
    }
   ],
   "source": [
    "tt = xgb.DMatrix(Xt[:3])\n",
    "\n",
    "model.predict(tt)[][]"
   ]
  },
  {
   "cell_type": "markdown",
   "metadata": {},
   "source": [
    "## Create ML service with BentoML"
   ]
  },
  {
   "cell_type": "code",
   "execution_count": 44,
   "metadata": {},
   "outputs": [
    {
     "name": "stdout",
     "output_type": "stream",
     "text": [
      "Writing lol_win_predictions.py\n"
     ]
    }
   ],
   "source": [
    "%%writefile lol_win_predictions.py\n",
    "\n",
    "from bentoml import api, env, BentoService, artifacts\n",
    "from bentoml.artifact import XgboostModelArtifact\n",
    "from bentoml.handlers import DataframeHandler\n",
    "\n",
    "import xgboost as xgb\n",
    "\n",
    "@env(conda_pip_dependencies=['xgboost'])\n",
    "@artifacts([XgboostModelArtifact('model')])\n",
    "class LeagueWinPrediction(BentoService):\n",
    "    \n",
    "    @api(DataframeHandler)\n",
    "    def predict(self, df):\n",
    "        dmatrix = xgb.DMatrix(df)\n",
    "        return self.artifacts.model.predict(dmatrix)"
   ]
  },
  {
   "cell_type": "code",
   "execution_count": 46,
   "metadata": {},
   "outputs": [
    {
     "name": "stdout",
     "output_type": "stream",
     "text": [
      "[2019-07-22 15:29:14,130] INFO - Searching for dependant modules of lol_win_predictions:/Users/bozhaoyu/src/bento_gallery/xgboost/league-of-legend-win-prediction/lol_win_predictions.py\n",
      "[2019-07-22 15:29:29,954] INFO - Copying local python module '/Users/bozhaoyu/src/bento_gallery/xgboost/league-of-legend-win-prediction/lol_win_predictions.py'\n",
      "[2019-07-22 15:29:29,956] INFO - Done copying local python dependant modules\n",
      "[2019-07-22 15:29:30,079] INFO - BentoService LeagueWinPrediction:2019_07_22_240d38ba saved to /tmp/bent_archive/LeagueWinPrediction/2019_07_22_240d38ba\n"
     ]
    }
   ],
   "source": [
    "from lol_win_predictions import LeagueWinPrediction\n",
    "\n",
    "service = LeagueWinPrediction.pack(model=model)\n",
    "saved_path = service.save('/tmp/bent_archive')"
   ]
  },
  {
   "cell_type": "code",
   "execution_count": 47,
   "metadata": {},
   "outputs": [
    {
     "name": "stdout",
     "output_type": "stream",
     "text": [
      "[0.26397082 0.05626516 0.011282  ]\n"
     ]
    }
   ],
   "source": [
    "from bentoml import load\n",
    "\n",
    "svc = load(saved_path)\n",
    "print(svc.predict(Xt[:3]))"
   ]
  },
  {
   "cell_type": "markdown",
   "metadata": {},
   "source": [
    "## Using BentoML archive as CLI tool"
   ]
  },
  {
   "cell_type": "code",
   "execution_count": 48,
   "metadata": {},
   "outputs": [
    {
     "name": "stdout",
     "output_type": "stream",
     "text": [
      "Processing /tmp/bent_archive/LeagueWinPrediction/2019_07_22_240d38ba\n",
      "Building wheels for collected packages: LeagueWinPrediction\n",
      "  Building wheel for LeagueWinPrediction (setup.py) ... \u001b[?25ldone\n",
      "\u001b[?25h  Stored in directory: /private/var/folders/kn/xnc9k74x03567n1mx2tfqnpr0000gn/T/pip-ephem-wheel-cache-3horspvo/wheels/25/d2/dd/5f6fc222f8c5261e06bfe089e1997cb0b5a0b917b5b3a78b49\n",
      "Successfully built LeagueWinPrediction\n",
      "Installing collected packages: LeagueWinPrediction\n",
      "Successfully installed LeagueWinPrediction-2019-07-22-240d38ba\n"
     ]
    }
   ],
   "source": [
    "!pip install {saved_path}"
   ]
  },
  {
   "cell_type": "code",
   "execution_count": 49,
   "metadata": {},
   "outputs": [],
   "source": [
    "test_df = Xt[:3]\n",
    "test_df.to_csv('test.csv')"
   ]
  },
  {
   "cell_type": "code",
   "execution_count": 51,
   "metadata": {},
   "outputs": [
    {
     "name": "stdout",
     "output_type": "stream",
     "text": [
      "[0.99658453 0.01096581 0.06465738]\r\n"
     ]
    }
   ],
   "source": [
    "!LeagueWinPrediction predict --input=test.csv"
   ]
  },
  {
   "cell_type": "markdown",
   "metadata": {},
   "source": [
    "## Use archive as REST API server\n",
    "\n",
    "*notes: This doesn't work with Google Colab right now, because we can't access the local port from it.*"
   ]
  },
  {
   "cell_type": "code",
   "execution_count": 56,
   "metadata": {},
   "outputs": [
    {
     "name": "stdout",
     "output_type": "stream",
     "text": [
      " * Serving Flask app \"LeagueWinPrediction\" (lazy loading)\n",
      " * Environment: production\n",
      "\u001b[31m   WARNING: This is a development server. Do not use it in a production deployment.\u001b[0m\n",
      "\u001b[2m   Use a production WSGI server instead.\u001b[0m\n",
      " * Debug mode: off\n",
      " * Running on http://127.0.0.1:5000/ (Press CTRL+C to quit)\n",
      "^C\n"
     ]
    }
   ],
   "source": [
    "!bentoml serve {saved_path}"
   ]
  },
  {
   "cell_type": "markdown",
   "metadata": {},
   "source": [
    "### Make requeset to the REST server\n",
    "\n",
    "*After navigate to the location of this notebook, copy and paste the following code to your terminal and run it to make request*\n",
    "\n",
    "```bash\n",
    "curl -i \\\n",
    "--request POST \\\n",
    "--header \"Content-Type: text/csv\" \\\n",
    "-d @test.csv \\\n",
    "localhost:5000/predict\n",
    "```"
   ]
  },
  {
   "cell_type": "code",
   "execution_count": null,
   "metadata": {},
   "outputs": [],
   "source": []
  }
 ],
 "metadata": {
  "kernelspec": {
   "display_name": "Python 3",
   "language": "python",
   "name": "python3"
  },
  "language_info": {
   "codemirror_mode": {
    "name": "ipython",
    "version": 3
   },
   "file_extension": ".py",
   "mimetype": "text/x-python",
   "name": "python",
   "nbconvert_exporter": "python",
   "pygments_lexer": "ipython3",
   "version": "3.7.2"
  }
 },
 "nbformat": 4,
 "nbformat_minor": 2
}
