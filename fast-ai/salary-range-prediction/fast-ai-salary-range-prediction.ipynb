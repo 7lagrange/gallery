{
 "cells": [
  {
   "cell_type": "markdown",
   "metadata": {},
   "source": [
    "# Fast AI with Tabular data\n",
    "\n",
    "This notebook is based on fastai's cours v3 lesson 4.  We are going to train a model that predict salary range base on the data we provided.\n",
    "\n",
    "![Impression](https://www.google-analytics.com/collect?v=1&tid=UA-112879361-3&cid=555&t=event&ec=nb&ea=open&el=gallery-example&dt=fastai-tabular-csv)"
   ]
  },
  {
   "cell_type": "code",
   "execution_count": 1,
   "metadata": {
    "scrolled": true
   },
   "outputs": [
    {
     "name": "stdout",
     "output_type": "stream",
     "text": [
      "Requirement already satisfied: fastai in /Users/chaoyuyang/anaconda3/envs/bentoml-dev/lib/python3.7/site-packages (1.0.55)\n",
      "Requirement already satisfied: scipy in /Users/chaoyuyang/anaconda3/envs/bentoml-dev/lib/python3.7/site-packages (from fastai) (1.3.0)\n",
      "Requirement already satisfied: numpy>=1.15 in /Users/chaoyuyang/anaconda3/envs/bentoml-dev/lib/python3.7/site-packages (from fastai) (1.16.4)\n",
      "Requirement already satisfied: pandas in /Users/chaoyuyang/anaconda3/envs/bentoml-dev/lib/python3.7/site-packages (from fastai) (0.24.2)\n",
      "Requirement already satisfied: packaging in /Users/chaoyuyang/anaconda3/envs/bentoml-dev/lib/python3.7/site-packages (from fastai) (19.0)\n",
      "Requirement already satisfied: pyyaml in /Users/chaoyuyang/anaconda3/envs/bentoml-dev/lib/python3.7/site-packages (from fastai) (5.1.1)\n",
      "Requirement already satisfied: torch>=1.0.0 in /Users/chaoyuyang/anaconda3/envs/bentoml-dev/lib/python3.7/site-packages (from fastai) (1.0.1.post2)\n",
      "Requirement already satisfied: pynvx>=1.0.0; platform_system == \"Darwin\" in /Users/chaoyuyang/anaconda3/envs/bentoml-dev/lib/python3.7/site-packages (from fastai) (1.0.0)\n",
      "Requirement already satisfied: nvidia-ml-py3 in /Users/chaoyuyang/anaconda3/envs/bentoml-dev/lib/python3.7/site-packages (from fastai) (7.352.0)\n",
      "Requirement already satisfied: Pillow in /Users/chaoyuyang/anaconda3/envs/bentoml-dev/lib/python3.7/site-packages (from fastai) (5.4.1)\n",
      "Requirement already satisfied: requests in /Users/chaoyuyang/anaconda3/envs/bentoml-dev/lib/python3.7/site-packages (from fastai) (2.22.0)\n",
      "Requirement already satisfied: matplotlib in /Users/chaoyuyang/anaconda3/envs/bentoml-dev/lib/python3.7/site-packages (from fastai) (3.1.1)\n",
      "Requirement already satisfied: numexpr in /Users/chaoyuyang/anaconda3/envs/bentoml-dev/lib/python3.7/site-packages (from fastai) (2.6.9)\n",
      "Requirement already satisfied: spacy>=2.0.18 in /Users/chaoyuyang/anaconda3/envs/bentoml-dev/lib/python3.7/site-packages (from fastai) (2.1.4)\n",
      "Requirement already satisfied: torchvision in /Users/chaoyuyang/anaconda3/envs/bentoml-dev/lib/python3.7/site-packages (from fastai) (0.2.2.post3)\n",
      "Requirement already satisfied: fastprogress>=0.1.19 in /Users/chaoyuyang/anaconda3/envs/bentoml-dev/lib/python3.7/site-packages (from fastai) (0.1.21)\n",
      "Requirement already satisfied: beautifulsoup4 in /Users/chaoyuyang/anaconda3/envs/bentoml-dev/lib/python3.7/site-packages (from fastai) (4.7.1)\n",
      "Requirement already satisfied: bottleneck in /Users/chaoyuyang/anaconda3/envs/bentoml-dev/lib/python3.7/site-packages (from fastai) (1.2.1)\n",
      "Requirement already satisfied: python-dateutil>=2.5.0 in /Users/chaoyuyang/anaconda3/envs/bentoml-dev/lib/python3.7/site-packages (from pandas->fastai) (2.8.0)\n",
      "Requirement already satisfied: pytz>=2011k in /Users/chaoyuyang/anaconda3/envs/bentoml-dev/lib/python3.7/site-packages (from pandas->fastai) (2019.1)\n",
      "Requirement already satisfied: pyparsing>=2.0.2 in /Users/chaoyuyang/anaconda3/envs/bentoml-dev/lib/python3.7/site-packages (from packaging->fastai) (2.4.0)\n",
      "Requirement already satisfied: six in /Users/chaoyuyang/anaconda3/envs/bentoml-dev/lib/python3.7/site-packages (from packaging->fastai) (1.12.0)\n",
      "Requirement already satisfied: chardet<3.1.0,>=3.0.2 in /Users/chaoyuyang/anaconda3/envs/bentoml-dev/lib/python3.7/site-packages (from requests->fastai) (3.0.4)\n",
      "Requirement already satisfied: idna<2.9,>=2.5 in /Users/chaoyuyang/anaconda3/envs/bentoml-dev/lib/python3.7/site-packages (from requests->fastai) (2.8)\n",
      "Requirement already satisfied: urllib3!=1.25.0,!=1.25.1,<1.26,>=1.21.1 in /Users/chaoyuyang/anaconda3/envs/bentoml-dev/lib/python3.7/site-packages (from requests->fastai) (1.24.3)\n",
      "Requirement already satisfied: certifi>=2017.4.17 in /Users/chaoyuyang/anaconda3/envs/bentoml-dev/lib/python3.7/site-packages (from requests->fastai) (2019.6.16)\n",
      "Requirement already satisfied: cycler>=0.10 in /Users/chaoyuyang/anaconda3/envs/bentoml-dev/lib/python3.7/site-packages (from matplotlib->fastai) (0.10.0)\n",
      "Requirement already satisfied: kiwisolver>=1.0.1 in /Users/chaoyuyang/anaconda3/envs/bentoml-dev/lib/python3.7/site-packages (from matplotlib->fastai) (1.0.1)\n",
      "Requirement already satisfied: jsonschema<3.1.0,>=2.6.0 in /Users/chaoyuyang/anaconda3/envs/bentoml-dev/lib/python3.7/site-packages (from spacy>=2.0.18->fastai) (3.0.1)\n",
      "Requirement already satisfied: plac<1.0.0,>=0.9.6 in /Users/chaoyuyang/anaconda3/envs/bentoml-dev/lib/python3.7/site-packages (from spacy>=2.0.18->fastai) (0.9.6)\n",
      "Requirement already satisfied: srsly<1.1.0,>=0.0.5 in /Users/chaoyuyang/anaconda3/envs/bentoml-dev/lib/python3.7/site-packages (from spacy>=2.0.18->fastai) (0.0.7)\n",
      "Requirement already satisfied: cymem<2.1.0,>=2.0.2 in /Users/chaoyuyang/anaconda3/envs/bentoml-dev/lib/python3.7/site-packages (from spacy>=2.0.18->fastai) (2.0.2)\n",
      "Requirement already satisfied: preshed<2.1.0,>=2.0.1 in /Users/chaoyuyang/anaconda3/envs/bentoml-dev/lib/python3.7/site-packages (from spacy>=2.0.18->fastai) (2.0.1)\n",
      "Requirement already satisfied: wasabi<1.1.0,>=0.2.0 in /Users/chaoyuyang/anaconda3/envs/bentoml-dev/lib/python3.7/site-packages (from spacy>=2.0.18->fastai) (0.2.2)\n",
      "Requirement already satisfied: blis<0.3.0,>=0.2.2 in /Users/chaoyuyang/anaconda3/envs/bentoml-dev/lib/python3.7/site-packages (from spacy>=2.0.18->fastai) (0.2.4)\n",
      "Requirement already satisfied: murmurhash<1.1.0,>=0.28.0 in /Users/chaoyuyang/anaconda3/envs/bentoml-dev/lib/python3.7/site-packages (from spacy>=2.0.18->fastai) (1.0.2)\n",
      "Requirement already satisfied: thinc<7.1.0,>=7.0.2 in /Users/chaoyuyang/anaconda3/envs/bentoml-dev/lib/python3.7/site-packages (from spacy>=2.0.18->fastai) (7.0.5)\n",
      "Requirement already satisfied: soupsieve>=1.2 in /Users/chaoyuyang/anaconda3/envs/bentoml-dev/lib/python3.7/site-packages (from beautifulsoup4->fastai) (1.9.2)\n",
      "Requirement already satisfied: setuptools in /Users/chaoyuyang/.local/lib/python3.7/site-packages (from kiwisolver>=1.0.1->matplotlib->fastai) (40.6.3)\n",
      "Requirement already satisfied: pyrsistent>=0.14.0 in /Users/chaoyuyang/anaconda3/envs/bentoml-dev/lib/python3.7/site-packages (from jsonschema<3.1.0,>=2.6.0->spacy>=2.0.18->fastai) (0.14.11)\n",
      "Requirement already satisfied: attrs>=17.4.0 in /Users/chaoyuyang/anaconda3/envs/bentoml-dev/lib/python3.7/site-packages (from jsonschema<3.1.0,>=2.6.0->spacy>=2.0.18->fastai) (19.1.0)\n",
      "Requirement already satisfied: tqdm<5.0.0,>=4.10.0 in /Users/chaoyuyang/.local/lib/python3.7/site-packages (from thinc<7.1.0,>=7.0.2->spacy>=2.0.18->fastai) (4.29.1)\n",
      "Requirement already satisfied: bentoml in /Users/chaoyuyang/anaconda3/envs/bentoml-dev/lib/python3.7/site-packages (0.4.1)\n",
      "Requirement already satisfied: configparser in /Users/chaoyuyang/anaconda3/envs/bentoml-dev/lib/python3.7/site-packages (from bentoml) (3.7.4)\n",
      "Requirement already satisfied: packaging in /Users/chaoyuyang/anaconda3/envs/bentoml-dev/lib/python3.7/site-packages (from bentoml) (19.0)\n",
      "Requirement already satisfied: pandas in /Users/chaoyuyang/anaconda3/envs/bentoml-dev/lib/python3.7/site-packages (from bentoml) (0.24.2)\n",
      "Requirement already satisfied: prometheus-client in /Users/chaoyuyang/anaconda3/envs/bentoml-dev/lib/python3.7/site-packages (from bentoml) (0.7.1)\n",
      "Requirement already satisfied: python-json-logger in /Users/chaoyuyang/anaconda3/envs/bentoml-dev/lib/python3.7/site-packages (from bentoml) (0.1.11)\n",
      "Requirement already satisfied: flask in /Users/chaoyuyang/anaconda3/envs/bentoml-dev/lib/python3.7/site-packages (from bentoml) (1.1.1)\n",
      "Requirement already satisfied: gunicorn in /Users/chaoyuyang/anaconda3/envs/bentoml-dev/lib/python3.7/site-packages (from bentoml) (19.9.0)\n",
      "Requirement already satisfied: grpcio in /Users/chaoyuyang/anaconda3/envs/bentoml-dev/lib/python3.7/site-packages (from bentoml) (1.22.0)\n",
      "Requirement already satisfied: dill in /Users/chaoyuyang/anaconda3/envs/bentoml-dev/lib/python3.7/site-packages (from bentoml) (0.3.0)\n",
      "Requirement already satisfied: docker in /Users/chaoyuyang/anaconda3/envs/bentoml-dev/lib/python3.7/site-packages (from bentoml) (4.0.2)\n",
      "Requirement already satisfied: protobuf>=3.6.0 in /Users/chaoyuyang/anaconda3/envs/bentoml-dev/lib/python3.7/site-packages (from bentoml) (3.7.0)\n",
      "Requirement already satisfied: boto3 in /Users/chaoyuyang/anaconda3/envs/bentoml-dev/lib/python3.7/site-packages (from bentoml) (1.9.188)\n",
      "Requirement already satisfied: click in /Users/chaoyuyang/anaconda3/envs/bentoml-dev/lib/python3.7/site-packages (from bentoml) (7.0)\n",
      "Requirement already satisfied: requests in /Users/chaoyuyang/anaconda3/envs/bentoml-dev/lib/python3.7/site-packages (from bentoml) (2.22.0)\n",
      "Requirement already satisfied: sqlalchemy in /Users/chaoyuyang/anaconda3/envs/bentoml-dev/lib/python3.7/site-packages (from bentoml) (1.3.4)\n",
      "Requirement already satisfied: numpy in /Users/chaoyuyang/anaconda3/envs/bentoml-dev/lib/python3.7/site-packages (from bentoml) (1.16.4)\n",
      "Requirement already satisfied: six in /Users/chaoyuyang/anaconda3/envs/bentoml-dev/lib/python3.7/site-packages (from bentoml) (1.12.0)\n",
      "Requirement already satisfied: ruamel.yaml>=0.15.0 in /Users/chaoyuyang/anaconda3/envs/bentoml-dev/lib/python3.7/site-packages (from bentoml) (0.15.99)\n",
      "Requirement already satisfied: pathlib2 in /Users/chaoyuyang/anaconda3/envs/bentoml-dev/lib/python3.7/site-packages (from bentoml) (2.3.4)\n",
      "Requirement already satisfied: cerberus in /Users/chaoyuyang/anaconda3/envs/bentoml-dev/lib/python3.7/site-packages (from bentoml) (1.3.1)\n"
     ]
    },
    {
     "name": "stdout",
     "output_type": "stream",
     "text": [
      "Requirement already satisfied: pyparsing>=2.0.2 in /Users/chaoyuyang/anaconda3/envs/bentoml-dev/lib/python3.7/site-packages (from packaging->bentoml) (2.4.0)\n",
      "Requirement already satisfied: python-dateutil>=2.5.0 in /Users/chaoyuyang/anaconda3/envs/bentoml-dev/lib/python3.7/site-packages (from pandas->bentoml) (2.8.0)\n",
      "Requirement already satisfied: pytz>=2011k in /Users/chaoyuyang/anaconda3/envs/bentoml-dev/lib/python3.7/site-packages (from pandas->bentoml) (2019.1)\n",
      "Requirement already satisfied: Jinja2>=2.10.1 in /Users/chaoyuyang/anaconda3/envs/bentoml-dev/lib/python3.7/site-packages (from flask->bentoml) (2.10.1)\n",
      "Requirement already satisfied: Werkzeug>=0.15 in /Users/chaoyuyang/anaconda3/envs/bentoml-dev/lib/python3.7/site-packages (from flask->bentoml) (0.15.4)\n",
      "Requirement already satisfied: itsdangerous>=0.24 in /Users/chaoyuyang/anaconda3/envs/bentoml-dev/lib/python3.7/site-packages (from flask->bentoml) (1.1.0)\n",
      "Requirement already satisfied: websocket-client>=0.32.0 in /Users/chaoyuyang/anaconda3/envs/bentoml-dev/lib/python3.7/site-packages (from docker->bentoml) (0.56.0)\n",
      "Requirement already satisfied: setuptools in /Users/chaoyuyang/.local/lib/python3.7/site-packages (from protobuf>=3.6.0->bentoml) (40.6.3)\n",
      "Requirement already satisfied: s3transfer<0.3.0,>=0.2.0 in /Users/chaoyuyang/anaconda3/envs/bentoml-dev/lib/python3.7/site-packages (from boto3->bentoml) (0.2.1)\n",
      "Requirement already satisfied: jmespath<1.0.0,>=0.7.1 in /Users/chaoyuyang/.local/lib/python3.7/site-packages (from boto3->bentoml) (0.9.3)\n",
      "Requirement already satisfied: botocore<1.13.0,>=1.12.188 in /Users/chaoyuyang/anaconda3/envs/bentoml-dev/lib/python3.7/site-packages (from boto3->bentoml) (1.12.188)\n",
      "Requirement already satisfied: urllib3!=1.25.0,!=1.25.1,<1.26,>=1.21.1 in /Users/chaoyuyang/anaconda3/envs/bentoml-dev/lib/python3.7/site-packages (from requests->bentoml) (1.24.3)\n",
      "Requirement already satisfied: certifi>=2017.4.17 in /Users/chaoyuyang/anaconda3/envs/bentoml-dev/lib/python3.7/site-packages (from requests->bentoml) (2019.6.16)\n",
      "Requirement already satisfied: idna<2.9,>=2.5 in /Users/chaoyuyang/anaconda3/envs/bentoml-dev/lib/python3.7/site-packages (from requests->bentoml) (2.8)\n",
      "Requirement already satisfied: chardet<3.1.0,>=3.0.2 in /Users/chaoyuyang/anaconda3/envs/bentoml-dev/lib/python3.7/site-packages (from requests->bentoml) (3.0.4)\n",
      "Requirement already satisfied: MarkupSafe>=0.23 in /Users/chaoyuyang/anaconda3/envs/bentoml-dev/lib/python3.7/site-packages (from Jinja2>=2.10.1->flask->bentoml) (1.1.1)\n",
      "Requirement already satisfied: docutils>=0.10 in /Users/chaoyuyang/.local/lib/python3.7/site-packages (from botocore<1.13.0,>=1.12.188->boto3->bentoml) (0.14)\n"
     ]
    }
   ],
   "source": [
    "%reload_ext autoreload\n",
    "%autoreload 2\n",
    "%matplotlib inline\n",
    "\n",
    "!pip install fastai\n",
    "!pip install bentoml"
   ]
  },
  {
   "cell_type": "code",
   "execution_count": 2,
   "metadata": {},
   "outputs": [],
   "source": [
    "from fastai.tabular import *"
   ]
  },
  {
   "cell_type": "markdown",
   "metadata": {},
   "source": [
    "## Prepare Training Data"
   ]
  },
  {
   "cell_type": "code",
   "execution_count": 3,
   "metadata": {},
   "outputs": [],
   "source": [
    "path = untar_data(URLs.ADULT_SAMPLE)\n",
    "df = pd.read_csv(path/'adult.csv')"
   ]
  },
  {
   "cell_type": "code",
   "execution_count": 4,
   "metadata": {},
   "outputs": [],
   "source": [
    "dep_var = 'salary'\n",
    "cat_names = ['workclass', 'education', 'marital-status', 'occupation', 'relationship', 'race']\n",
    "cont_names = ['age', 'fnlwgt', 'education-num']\n",
    "procs = [FillMissing, Categorify, Normalize]"
   ]
  },
  {
   "cell_type": "code",
   "execution_count": 5,
   "metadata": {},
   "outputs": [],
   "source": [
    "test = TabularList.from_df(df.iloc[800:1000].copy(), path=path, cat_names=cat_names, cont_names=cont_names)"
   ]
  },
  {
   "cell_type": "code",
   "execution_count": 6,
   "metadata": {},
   "outputs": [],
   "source": [
    "data = (TabularList.from_df(df, path=path, cat_names=cat_names, cont_names=cont_names, procs=procs)\n",
    "                           .split_by_idx(list(range(800,1000)))\n",
    "                           .label_from_df(cols=dep_var)\n",
    "                           .add_test(test)\n",
    "                           .databunch())"
   ]
  },
  {
   "cell_type": "code",
   "execution_count": 7,
   "metadata": {
    "scrolled": true
   },
   "outputs": [
    {
     "data": {
      "text/html": [
       "<table border=\"1\" class=\"dataframe\">\n",
       "  <thead>\n",
       "    <tr style=\"text-align: right;\">\n",
       "      <th>workclass</th>\n",
       "      <th>education</th>\n",
       "      <th>marital-status</th>\n",
       "      <th>occupation</th>\n",
       "      <th>relationship</th>\n",
       "      <th>race</th>\n",
       "      <th>education-num_na</th>\n",
       "      <th>age</th>\n",
       "      <th>fnlwgt</th>\n",
       "      <th>education-num</th>\n",
       "      <th>target</th>\n",
       "    </tr>\n",
       "  </thead>\n",
       "  <tbody>\n",
       "    <tr>\n",
       "      <td>Federal-gov</td>\n",
       "      <td>HS-grad</td>\n",
       "      <td>Never-married</td>\n",
       "      <td>Prof-specialty</td>\n",
       "      <td>Not-in-family</td>\n",
       "      <td>White</td>\n",
       "      <td>False</td>\n",
       "      <td>-1.1425</td>\n",
       "      <td>1.2380</td>\n",
       "      <td>-0.4224</td>\n",
       "      <td>&lt;50k</td>\n",
       "    </tr>\n",
       "    <tr>\n",
       "      <td>Local-gov</td>\n",
       "      <td>Bachelors</td>\n",
       "      <td>Divorced</td>\n",
       "      <td>Prof-specialty</td>\n",
       "      <td>Not-in-family</td>\n",
       "      <td>Black</td>\n",
       "      <td>False</td>\n",
       "      <td>1.7161</td>\n",
       "      <td>0.5628</td>\n",
       "      <td>1.1422</td>\n",
       "      <td>&lt;50k</td>\n",
       "    </tr>\n",
       "    <tr>\n",
       "      <td>Self-emp-not-inc</td>\n",
       "      <td>Some-college</td>\n",
       "      <td>Married-civ-spouse</td>\n",
       "      <td>Farming-fishing</td>\n",
       "      <td>Husband</td>\n",
       "      <td>White</td>\n",
       "      <td>False</td>\n",
       "      <td>-0.2629</td>\n",
       "      <td>1.2336</td>\n",
       "      <td>-0.0312</td>\n",
       "      <td>&lt;50k</td>\n",
       "    </tr>\n",
       "    <tr>\n",
       "      <td>Self-emp-not-inc</td>\n",
       "      <td>Bachelors</td>\n",
       "      <td>Married-civ-spouse</td>\n",
       "      <td>Exec-managerial</td>\n",
       "      <td>Husband</td>\n",
       "      <td>White</td>\n",
       "      <td>False</td>\n",
       "      <td>0.7632</td>\n",
       "      <td>-0.7372</td>\n",
       "      <td>1.1422</td>\n",
       "      <td>&gt;=50k</td>\n",
       "    </tr>\n",
       "    <tr>\n",
       "      <td>Private</td>\n",
       "      <td>Some-college</td>\n",
       "      <td>Married-civ-spouse</td>\n",
       "      <td>Tech-support</td>\n",
       "      <td>Husband</td>\n",
       "      <td>White</td>\n",
       "      <td>False</td>\n",
       "      <td>-0.7760</td>\n",
       "      <td>-1.1808</td>\n",
       "      <td>-0.0312</td>\n",
       "      <td>&lt;50k</td>\n",
       "    </tr>\n",
       "    <tr>\n",
       "      <td>Private</td>\n",
       "      <td>HS-grad</td>\n",
       "      <td>Never-married</td>\n",
       "      <td>Craft-repair</td>\n",
       "      <td>Own-child</td>\n",
       "      <td>White</td>\n",
       "      <td>False</td>\n",
       "      <td>-1.1425</td>\n",
       "      <td>-1.2604</td>\n",
       "      <td>-0.4224</td>\n",
       "      <td>&lt;50k</td>\n",
       "    </tr>\n",
       "    <tr>\n",
       "      <td>Private</td>\n",
       "      <td>7th-8th</td>\n",
       "      <td>Married-civ-spouse</td>\n",
       "      <td>Craft-repair</td>\n",
       "      <td>Husband</td>\n",
       "      <td>White</td>\n",
       "      <td>False</td>\n",
       "      <td>2.0826</td>\n",
       "      <td>-0.3717</td>\n",
       "      <td>-2.3781</td>\n",
       "      <td>&lt;50k</td>\n",
       "    </tr>\n",
       "    <tr>\n",
       "      <td>Private</td>\n",
       "      <td>Some-college</td>\n",
       "      <td>Never-married</td>\n",
       "      <td>#na#</td>\n",
       "      <td>Own-child</td>\n",
       "      <td>White</td>\n",
       "      <td>False</td>\n",
       "      <td>-1.2158</td>\n",
       "      <td>0.2702</td>\n",
       "      <td>-0.0312</td>\n",
       "      <td>&lt;50k</td>\n",
       "    </tr>\n",
       "    <tr>\n",
       "      <td>Without-pay</td>\n",
       "      <td>HS-grad</td>\n",
       "      <td>Never-married</td>\n",
       "      <td>Craft-repair</td>\n",
       "      <td>Own-child</td>\n",
       "      <td>Black</td>\n",
       "      <td>False</td>\n",
       "      <td>-1.2891</td>\n",
       "      <td>0.4077</td>\n",
       "      <td>-0.4224</td>\n",
       "      <td>&lt;50k</td>\n",
       "    </tr>\n",
       "    <tr>\n",
       "      <td>Private</td>\n",
       "      <td>HS-grad</td>\n",
       "      <td>Married-civ-spouse</td>\n",
       "      <td>Transport-moving</td>\n",
       "      <td>Husband</td>\n",
       "      <td>White</td>\n",
       "      <td>False</td>\n",
       "      <td>-0.4095</td>\n",
       "      <td>-1.0861</td>\n",
       "      <td>-0.4224</td>\n",
       "      <td>&lt;50k</td>\n",
       "    </tr>\n",
       "  </tbody>\n",
       "</table>"
      ],
      "text/plain": [
       "<IPython.core.display.HTML object>"
      ]
     },
     "metadata": {},
     "output_type": "display_data"
    }
   ],
   "source": [
    "data.show_batch(rows=10)"
   ]
  },
  {
   "cell_type": "markdown",
   "metadata": {},
   "source": [
    "## Model Training"
   ]
  },
  {
   "cell_type": "code",
   "execution_count": 8,
   "metadata": {},
   "outputs": [],
   "source": [
    "learn = tabular_learner(data, layers=[200,100], metrics=accuracy)"
   ]
  },
  {
   "cell_type": "code",
   "execution_count": 9,
   "metadata": {},
   "outputs": [
    {
     "data": {
      "text/html": [
       "<table border=\"1\" class=\"dataframe\">\n",
       "  <thead>\n",
       "    <tr style=\"text-align: left;\">\n",
       "      <th>epoch</th>\n",
       "      <th>train_loss</th>\n",
       "      <th>valid_loss</th>\n",
       "      <th>accuracy</th>\n",
       "      <th>time</th>\n",
       "    </tr>\n",
       "  </thead>\n",
       "  <tbody>\n",
       "    <tr>\n",
       "      <td>0</td>\n",
       "      <td>0.363818</td>\n",
       "      <td>0.390632</td>\n",
       "      <td>0.805000</td>\n",
       "      <td>00:03</td>\n",
       "    </tr>\n",
       "  </tbody>\n",
       "</table>"
      ],
      "text/plain": [
       "<IPython.core.display.HTML object>"
      ]
     },
     "metadata": {},
     "output_type": "display_data"
    }
   ],
   "source": [
    "learn.fit(1, 1e-2)"
   ]
  },
  {
   "cell_type": "code",
   "execution_count": 10,
   "metadata": {},
   "outputs": [
    {
     "data": {
      "text/plain": [
       "(Category >=50k, tensor(1), tensor([0.2878, 0.7122]))"
      ]
     },
     "execution_count": 10,
     "metadata": {},
     "output_type": "execute_result"
    }
   ],
   "source": [
    "row = df.iloc[0] # sample input date for testing\n",
    "\n",
    "learn.predict(row)"
   ]
  },
  {
   "cell_type": "markdown",
   "metadata": {},
   "source": [
    "## Create BentoService for model serving"
   ]
  },
  {
   "cell_type": "code",
   "execution_count": 11,
   "metadata": {
    "scrolled": true
   },
   "outputs": [
    {
     "name": "stdout",
     "output_type": "stream",
     "text": [
      "Overwriting tabular_csv.py\n"
     ]
    }
   ],
   "source": [
    "%%writefile tabular_csv.py\n",
    "\n",
    "from bentoml import env, api, artifacts, BentoService\n",
    "from bentoml.artifact import FastaiModelArtifact\n",
    "from bentoml.handlers import DataframeHandler\n",
    "\n",
    "\n",
    "@env(conda_environment=['fastai'])\n",
    "@artifacts([FastaiModelArtifact('model')])\n",
    "class TabularModel(BentoService):\n",
    "    \n",
    "    @api(DataframeHandler)\n",
    "    def predict(self, df):\n",
    "        result = []\n",
    "        for index, row in df.iterrows():            \n",
    "            result.append(self.artifacts.model.predict(row))\n",
    "        return str(result)"
   ]
  },
  {
   "cell_type": "markdown",
   "metadata": {},
   "source": [
    "## Save BentoService to file archive"
   ]
  },
  {
   "cell_type": "code",
   "execution_count": 12,
   "metadata": {},
   "outputs": [
    {
     "name": "stdout",
     "output_type": "stream",
     "text": [
      "[2019-09-17 14:49:16,473] INFO - Successfully saved Bento 'TabularModel:2019_09_17_e8f3521a' to path: /Users/chaoyuyang/bentoml/repository/TabularModel/2019_09_17_e8f3521a\n"
     ]
    }
   ],
   "source": [
    "# 1) import the custom BentoService defined above\n",
    "from tabular_csv import TabularModel\n",
    "\n",
    "# 2) `pack` it with required artifacts\n",
    "svc = TabularModel.pack(model=learn)\n",
    "\n",
    "# 3) save your BentoSerivce\n",
    "saved_path = svc.save()"
   ]
  },
  {
   "cell_type": "markdown",
   "metadata": {},
   "source": [
    "## Install saved BentoService as PyPI package"
   ]
  },
  {
   "cell_type": "code",
   "execution_count": 13,
   "metadata": {},
   "outputs": [
    {
     "name": "stdout",
     "output_type": "stream",
     "text": [
      "Processing /Users/chaoyuyang/bentoml/repository/TabularModel/2019_09_17_e8f3521a\n",
      "Building wheels for collected packages: TabularModel\n",
      "  Building wheel for TabularModel (setup.py) ... \u001b[?25ldone\n",
      "\u001b[?25h  Stored in directory: /private/var/folders/ns/vc9qhmqx5dx_9fws7d869lqh0000gn/T/pip-ephem-wheel-cache-dm18zls6/wheels/d8/22/b3/193cd35f0ca411b7962b7e2ea98b8ab919ceb2e8e8ddd5383b\n",
      "Successfully built TabularModel\n",
      "Installing collected packages: TabularModel\n",
      "  Found existing installation: TabularModel 2019-09-17-7d8feac4\n",
      "    Uninstalling TabularModel-2019-09-17-7d8feac4:\n",
      "      Successfully uninstalled TabularModel-2019-09-17-7d8feac4\n",
      "Successfully installed TabularModel-2019-09-17-e8f3521a\n"
     ]
    }
   ],
   "source": [
    "!pip install {saved_path}"
   ]
  },
  {
   "cell_type": "code",
   "execution_count": 14,
   "metadata": {},
   "outputs": [
    {
     "name": "stdout",
     "output_type": "stream",
     "text": [
      "[(Category <50k, tensor(0), tensor([0.6706, 0.3294]))]\r\n"
     ]
    }
   ],
   "source": [
    "# Use json data\n",
    "!TabularModel predict --input=test.json"
   ]
  },
  {
   "cell_type": "code",
   "execution_count": 15,
   "metadata": {},
   "outputs": [
    {
     "name": "stdout",
     "output_type": "stream",
     "text": [
      "[(Category >=50k, tensor(1), tensor([0.2878, 0.7122]))]\r\n"
     ]
    }
   ],
   "source": [
    "# Use CSV data\n",
    "!TabularModel predict --input=test.csv"
   ]
  },
  {
   "cell_type": "markdown",
   "metadata": {},
   "source": [
    "## Model Serving via REST API\n",
    "\n",
    "*Note: Running as local rest api server does not work with Google Colab, please copy this notebook to run it locally*"
   ]
  },
  {
   "cell_type": "code",
   "execution_count": 16,
   "metadata": {},
   "outputs": [
    {
     "name": "stdout",
     "output_type": "stream",
     "text": [
      " * Serving Flask app \"TabularModel\" (lazy loading)\n",
      " * Environment: production\n",
      "\u001b[31m   WARNING: This is a development server. Do not use it in a production deployment.\u001b[0m\n",
      "\u001b[2m   Use a production WSGI server instead.\u001b[0m\n",
      " * Debug mode: off\n",
      " * Running on http://127.0.0.1:5000/ (Press CTRL+C to quit)\n",
      "127.0.0.1 - - [17/Sep/2019 14:49:46] \"\u001b[37mGET / HTTP/1.1\u001b[0m\" 200 -\n",
      "127.0.0.1 - - [17/Sep/2019 14:49:47] \"\u001b[37mGET /docs.json HTTP/1.1\u001b[0m\" 200 -\n",
      "127.0.0.1 - - [17/Sep/2019 14:49:52] \"\u001b[37mPOST /predict HTTP/1.1\u001b[0m\" 200 -\n",
      "^C\n"
     ]
    }
   ],
   "source": [
    "!bentoml serve {saved_path}"
   ]
  },
  {
   "cell_type": "markdown",
   "metadata": {},
   "source": [
    "### Send prediction requeset to the REST API server\n",
    "\n",
    "#### JSON Request\n",
    "\n",
    "```bash\n",
    "curl -X POST \\\n",
    "  http://localhost:5000/predict \\\n",
    "  -H 'Content-Type: application/json' \\\n",
    "  -d '[{\n",
    "  \"age\": 49,\n",
    "  \"workclass\": \"Private\",\n",
    "  \"fnlwgt\": 101320,\n",
    "  \"education\": \"Assoc-acdm\",\n",
    "  \"education-num\": 12.0,\n",
    "  \"marital-status\": \"Married-civ-spouse\",\n",
    "  \"occupation\": \"\",\n",
    "  \"relationship\": \"Wift\",\n",
    "  \"race\": \"White\",\n",
    "  \"sex\": \"Female\",\n",
    "  \"capital-gain\": 0,\n",
    "  \"capital-loss\": 1902,\n",
    "  \"hours-per-week\": 40,\n",
    "  \"native-country\": \"United-States\",\n",
    "  \"salary\": \">=50k\"\n",
    "}]'\n",
    "```\n",
    "\n",
    "#### CSV Request\n",
    "\n",
    "```bash\n",
    "curl -X POST \\\n",
    "  http://localhost:5000/predict \\\n",
    "  -H 'Content-Type: text/csv' \\\n",
    "  -d 'age,workclass,fnlwgt,education,education-num,marital-status,occupation,relationship,race,sex,capital-gain,capital-loss,hours-per-week,native-country,salary\n",
    "49, Private,101320, Assoc-acdm,12.0, Married-civ-spouse,, Wife, White, Female,0,1902,40, United-States,>=50k'\n",
    "```"
   ]
  },
  {
   "cell_type": "code",
   "execution_count": null,
   "metadata": {},
   "outputs": [],
   "source": []
  }
 ],
 "metadata": {
  "kernelspec": {
   "display_name": "Python 3",
   "language": "python",
   "name": "python3"
  },
  "language_info": {
   "codemirror_mode": {
    "name": "ipython",
    "version": 3
   },
   "file_extension": ".py",
   "mimetype": "text/x-python",
   "name": "python",
   "nbconvert_exporter": "python",
   "pygments_lexer": "ipython3",
   "version": "3.7.3"
  }
 },
 "nbformat": 4,
 "nbformat_minor": 2
}
